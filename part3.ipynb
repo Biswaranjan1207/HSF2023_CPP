{
 "cells": [
  {
   "cell_type": "markdown",
   "id": "a95fcb8a-fc13-48d9-bc06-4bd027b4fe48",
   "metadata": {},
   "source": [
    "# Selected optimization topics\n",
    "\n",
    "  * Avoid unneeded data copies\n",
    "    * emplace_back vs push_back\n",
    "    * Pass and receive by reference      \n",
    "  * Improve cache locality\n",
    "    * Avoid complicated data structures\n",
    "    * SoA vs AoS\n",
    "  * Do less work at run time\n",
    "    * Redundant computations\n",
    "    * Compile time \n",
    "    "
   ]
  },
  {
   "cell_type": "code",
   "execution_count": 1,
   "id": "9c81c309-b70d-4f9a-a1dc-d9b579ceeca8",
   "metadata": {
    "tags": []
   },
   "outputs": [],
   "source": [
    "//Lets make a simple class that has a printout when it is created\n",
    "\n",
    "class Widget {\n",
    "public:\n",
    "    Widget(int in_w) { w=in_w; std::cout << \"New widget1\\n\"; }\n",
    "    Widget(const Widget&) { std::cout << \"New widget2\\n\"; }\n",
    "    ~Widget() { }\n",
    "private:\n",
    "    int w; \n",
    "};\n"
   ]
  },
  {
   "cell_type": "code",
   "execution_count": 2,
   "id": "8cd48a17-2e8d-4b45-b155-0e52fa461366",
   "metadata": {
    "tags": []
   },
   "outputs": [
    {
     "name": "stdout",
     "output_type": "stream",
     "text": [
      "New widget1\n"
     ]
    }
   ],
   "source": [
    "Widget a(10);"
   ]
  },
  {
   "cell_type": "markdown",
   "id": "7db22e51-e418-473e-af1c-332c9fc30717",
   "metadata": {},
   "source": [
    "Now a vector of them"
   ]
  },
  {
   "cell_type": "code",
   "execution_count": 9,
   "id": "586ed933-2579-4134-9b1a-94466e90f03d",
   "metadata": {
    "tags": []
   },
   "outputs": [
    {
     "name": "stdout",
     "output_type": "stream",
     "text": [
      "New widget1\n",
      "New widget2\n",
      "New widget2\n",
      "New widget2\n",
      "New widget2\n",
      "New widget2\n",
      "And reserve more space..\n",
      "New widget2\n",
      "New widget2\n",
      "New widget2\n",
      "New widget2\n",
      "New widget2\n"
     ]
    }
   ],
   "source": [
    "std::vector<Widget> my_widgets(5,(10));\n",
    "std::cout << \"And reserve more space..\\n\";\n",
    "my_widgets.reserve(7);"
   ]
  },
  {
   "cell_type": "markdown",
   "id": "bc5cb766-2575-48c3-b3bc-97cdb73be501",
   "metadata": {
    "tags": []
   },
   "source": [
    "I can then extend the vector directly"
   ]
  },
  {
   "cell_type": "code",
   "execution_count": 10,
   "id": "7d199c51-c26c-491d-85d0-029c6dd1b999",
   "metadata": {
    "tags": []
   },
   "outputs": [
    {
     "name": "stdout",
     "output_type": "stream",
     "text": [
      "New widget1\n",
      "New widget2\n"
     ]
    }
   ],
   "source": [
    "my_widgets.push_back(Widget(10));"
   ]
  },
  {
   "cell_type": "markdown",
   "id": "fe98e2d5-d975-4dd6-86f3-0cdd18d29b9c",
   "metadata": {
    "tags": []
   },
   "source": [
    "A temporary Widget got created, so we did 2x the work. In this case ```emplace_back``` can help"
   ]
  },
  {
   "cell_type": "code",
   "execution_count": 8,
   "id": "38e953cf-4018-4f9d-91c6-cdd14e53059b",
   "metadata": {
    "tags": []
   },
   "outputs": [
    {
     "name": "stdout",
     "output_type": "stream",
     "text": [
      "New widget1\n"
     ]
    }
   ],
   "source": [
    "my_widgets.emplace_back(10);"
   ]
  },
  {
   "cell_type": "code",
   "execution_count": null,
   "id": "6ba90018-aa6f-43c9-a67e-4a648ac90dee",
   "metadata": {},
   "outputs": [],
   "source": []
  }
 ],
 "metadata": {
  "kernelspec": {
   "display_name": "ROOT C++",
   "language": "c++",
   "name": "root"
  },
  "language_info": {
   "codemirror_mode": "text/x-c++src",
   "file_extension": ".C",
   "mimetype": " text/x-c++src",
   "name": "c++"
  }
 },
 "nbformat": 4,
 "nbformat_minor": 5
}
