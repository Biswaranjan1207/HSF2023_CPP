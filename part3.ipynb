{
 "cells": [
  {
   "cell_type": "markdown",
   "id": "a95fcb8a-fc13-48d9-bc06-4bd027b4fe48",
   "metadata": {},
   "source": [
    "# Selected optimization topics\n",
    "\n",
    "  * Avoid unneeded data copies\n",
    "    * emplace_back vs push_back\n",
    "    * Pass and receive by reference      \n",
    "  * Improve cache locality\n",
    "    * Avoid complicated data structures\n",
    "    * SoA vs AoS\n",
    "  * Do less work at run time\n",
    "    * Redundant computations\n",
    "    * Move work to compile time \n",
    "    \n",
    "Some good news: Compilers are steadily making optimizations for us.. Many of \"yesterdays\" optimization topics are now done for us\n",
    "    "
   ]
  },
  {
   "cell_type": "markdown",
   "id": "491c5acd-6fd9-4f08-9157-1a2d6503a233",
   "metadata": {
    "slideshow": {
     "slide_type": "slide"
    },
    "tags": []
   },
   "source": [
    "# Using ```emplace_back``` vs ```push_back``` for vectors"
   ]
  },
  {
   "cell_type": "code",
   "execution_count": 4,
   "id": "9c81c309-b70d-4f9a-a1dc-d9b579ceeca8",
   "metadata": {
    "tags": []
   },
   "outputs": [],
   "source": [
    "//Lets make a simple class that has a printout when it is created\n",
    "\n",
    "class Widget {\n",
    "public:\n",
    "    Widget(int in_w) { w=in_w; std::cout << \"New widget1\\n\"; }\n",
    "    Widget(const Widget&) { std::cout << \"New widget2\\n\"; }\n",
    "    ~Widget() { }\n",
    "private:\n",
    "    int w; \n",
    "};\n"
   ]
  },
  {
   "cell_type": "code",
   "execution_count": 5,
   "id": "8cd48a17-2e8d-4b45-b155-0e52fa461366",
   "metadata": {
    "tags": []
   },
   "outputs": [
    {
     "name": "stdout",
     "output_type": "stream",
     "text": [
      "New widget1\n"
     ]
    }
   ],
   "source": [
    "Widget a(10);"
   ]
  },
  {
   "cell_type": "markdown",
   "id": "7db22e51-e418-473e-af1c-332c9fc30717",
   "metadata": {
    "slideshow": {
     "slide_type": "slide"
    },
    "tags": []
   },
   "source": [
    "Now a vector of them"
   ]
  },
  {
   "cell_type": "code",
   "execution_count": 6,
   "id": "586ed933-2579-4134-9b1a-94466e90f03d",
   "metadata": {
    "tags": []
   },
   "outputs": [
    {
     "name": "stdout",
     "output_type": "stream",
     "text": [
      "New widget1\n",
      "New widget2\n",
      "New widget2\n",
      "New widget2\n",
      "New widget2\n",
      "New widget2\n",
      "And reserve more space..\n",
      "New widget2\n",
      "New widget2\n",
      "New widget2\n",
      "New widget2\n",
      "New widget2\n"
     ]
    }
   ],
   "source": [
    "std::vector<Widget> my_widgets(5,(10));\n",
    "std::cout << \"And reserve more space..\\n\";\n",
    "my_widgets.reserve(7);"
   ]
  },
  {
   "cell_type": "markdown",
   "id": "bc5cb766-2575-48c3-b3bc-97cdb73be501",
   "metadata": {
    "slideshow": {
     "slide_type": "slide"
    },
    "tags": []
   },
   "source": [
    "I can then extend the vector directly"
   ]
  },
  {
   "cell_type": "code",
   "execution_count": 7,
   "id": "7d199c51-c26c-491d-85d0-029c6dd1b999",
   "metadata": {
    "tags": []
   },
   "outputs": [
    {
     "name": "stdout",
     "output_type": "stream",
     "text": [
      "New widget1\n",
      "New widget2\n"
     ]
    }
   ],
   "source": [
    "my_widgets.push_back(Widget(10));"
   ]
  },
  {
   "cell_type": "markdown",
   "id": "fe98e2d5-d975-4dd6-86f3-0cdd18d29b9c",
   "metadata": {
    "tags": []
   },
   "source": [
    "A temporary Widget got created, so we did 2x the work. <br> In this case ```emplace_back``` can help. The syntax is somewhat different and the arguments are interpreted as the constructor arguments"
   ]
  },
  {
   "cell_type": "code",
   "execution_count": 8,
   "id": "38e953cf-4018-4f9d-91c6-cdd14e53059b",
   "metadata": {
    "slideshow": {
     "slide_type": "fragment"
    },
    "tags": []
   },
   "outputs": [
    {
     "name": "stdout",
     "output_type": "stream",
     "text": [
      "New widget1\n"
     ]
    }
   ],
   "source": [
    "my_widgets.emplace_back(10);"
   ]
  },
  {
   "cell_type": "markdown",
   "id": "dfa51cf0-6d1d-4d81-843a-c696993f09f2",
   "metadata": {
    "slideshow": {
     "slide_type": "slide"
    },
    "tags": []
   },
   "source": [
    "# Pass (and receive) by reference\n",
    "\n",
    "Consider this function, how can its memory usage (and thus speed) be improved?"
   ]
  },
  {
   "cell_type": "code",
   "execution_count": 1,
   "id": "91562a40-9d63-4406-963c-55a829c113fa",
   "metadata": {
    "tags": []
   },
   "outputs": [
    {
     "name": "stdout",
     "output_type": "stream",
     "text": [
      "pairs address 0x7f52380e7000\n",
      "pairs address in average 0x7f521bffdc28\n",
      "vector address in average0x7f52380e7020\n",
      "vector address 0x7f52380e7020\n",
      "15 10 \n"
     ]
    }
   ],
   "source": [
    "std::vector<float> average(std::vector< std::pair<float,float> > pairs) {\n",
    "    std::cout << \"pairs address in average \" << &pairs <<std::endl;\n",
    "    std::vector<float> ave_vector;\n",
    "    ave_vector.reserve(pairs.size());\n",
    "    for (const auto &pair: pairs) \n",
    "        ave_vector.push_back(0.5*(pair.first + pair.second));\n",
    "    std::cout << \"vector address in average\" << &ave_vector <<std::endl;\n",
    "    return ave_vector;\n",
    "}\n",
    "\n",
    "std::vector< std::pair<float,float> > pairs;\n",
    "pairs.emplace_back(25.0, 5.0);\n",
    "pairs.emplace_back(5.0, 15.0);\n",
    "\n",
    "std::cout << \"pairs address \" << &pairs <<std::endl;\n",
    "\n",
    "auto results = average(pairs);\n",
    "std::cout << \"vector address \" << &results <<std::endl;\n",
    "\n",
    "for (const auto &result: results) \n",
    "    std::cout << result << \" \";\n",
    "std::cout << std::endl;\n"
   ]
  },
  {
   "cell_type": "markdown",
   "id": "a64b8588-c395-4e0b-9334-6912c68c436c",
   "metadata": {
    "slideshow": {
     "slide_type": "slide"
    },
    "tags": []
   },
   "source": [
    "We made a copy of two expensive vectors. Passing by reference solves both of these.\n",
    "  * Inputs: use ```const &``` when the function is not expected to change the input\n",
    "  * Outputs: Consider passing return values as arguments when expensive"
   ]
  },
  {
   "cell_type": "code",
   "execution_count": 11,
   "id": "d00c2089-8f4d-42da-95ca-1487276f13e8",
   "metadata": {
    "slideshow": {
     "slide_type": "slide"
    },
    "tags": []
   },
   "outputs": [
    {
     "name": "stdout",
     "output_type": "stream",
     "text": [
      "pairs address 0x7f39bd182000\n",
      "pairs address in average 0x7f39bd182000\n",
      "vector address in average0x7f39bd182020\n",
      "vector address 0x7f39bd182020\n",
      "15 10 \n"
     ]
    }
   ],
   "source": [
    "void average_improved(const std::vector< std::pair<float,float> > &pairs,\n",
    "                      std::vector<float> &ave_vector) {\n",
    "    std::cout << \"pairs address in average \" << &pairs <<std::endl;\n",
    "    ave_vector.clear(); //protect the output against previous values if desireable\n",
    "    ave_vector.reserve(pairs.size());\n",
    "    for (const auto &pair: pairs) \n",
    "        ave_vector.push_back(0.5*(pair.first + pair.second));\n",
    "    std::cout << \"vector address in average\" << &ave_vector <<std::endl;\n",
    "    return ave_vector;\n",
    "}\n",
    "\n",
    "std::vector< std::pair<float,float> > pairs;\n",
    "pairs.emplace_back(25.0, 5.0);\n",
    "pairs.emplace_back(5.0, 15.0);\n",
    "std::cout << \"pairs address \" << &pairs <<std::endl;\n",
    "\n",
    "std::vector<float> results;\n",
    "average_improved(pairs, results);\n",
    "std::cout << \"vector address \" << &results <<std::endl;\n",
    "\n",
    "for (const auto &result: results) \n",
    "    std::cout << result << \" \";\n",
    "std::cout << std::endl;\n"
   ]
  },
  {
   "cell_type": "markdown",
   "id": "3dac388e-88cb-4a50-9484-1df804992c9f",
   "metadata": {
    "slideshow": {
     "slide_type": "slide"
    },
    "tags": []
   },
   "source": [
    "A small code change avoids both of these copies. For simple data types there is no difference because the compiler handles it for you. For complex data structures always look at what can be passed by reference and at how the interface can minimize unneeded copies"
   ]
  },
  {
   "cell_type": "markdown",
   "id": "fc70f8d1-6d2e-4710-91fd-4703d14e0ead",
   "metadata": {
    "slideshow": {
     "slide_type": "slide"
    },
    "tags": []
   },
   "source": [
    "# (Improving) Cache locality\n",
    "\n",
    "* It is important to use the cache as much as possible for better performance\n",
    "\n",
    "<img src=\"./images/cache.png\" width=\"500\" />"
   ]
  },
  {
   "cell_type": "markdown",
   "id": "78e4d5dd-f547-4ec4-a36c-8a35d5a07d16",
   "metadata": {
    "slideshow": {
     "slide_type": "slide"
    },
    "tags": []
   },
   "source": [
    "# Goal: Neighboring memory accesses should be close together\n",
    "\n",
    "The easiest example is a 2D array. If we loop correctly, we access one memory location after its neighbor"
   ]
  },
  {
   "cell_type": "code",
   "execution_count": 12,
   "id": "a8eba7bc-61fb-49f0-9e44-d98f26cbd09f",
   "metadata": {
    "tags": []
   },
   "outputs": [
    {
     "name": "stdout",
     "output_type": "stream",
     "text": [
      "0x7f39bd17f000 0x7f39bd17f004 0x7f39bd17f008 0x7f39bd17f00c 0x7f39bd17f010 0x7f39bd17f014 0x7f39bd17f018 0x7f39bd17f01c 0x7f39bd17f020 0x7f39bd17f024 0x7f39bd17f028 0x7f39bd17f02c 0x7f39bd17f030 0x7f39bd17f034 0x7f39bd17f038 0x7f39bd17f03c 0x7f39bd17f040 0x7f39bd17f044 0x7f39bd17f048 0x7f39bd17f04c \n"
     ]
    }
   ],
   "source": [
    "std::array< std::array<int, 4>, 5> my2d{};\n",
    "for (int i=0; i< my2d.size(); i++) \n",
    "    for (int j=0; j< my2d[0].size(); j++)\n",
    "        std::cout << &(my2d[i][j]) << \" \";\n",
    "std::cout << std::endl;\n",
    "\n"
   ]
  },
  {
   "cell_type": "markdown",
   "id": "b378aad9-7b0e-44ab-9f65-703fc7d7789c",
   "metadata": {
    "slideshow": {
     "slide_type": "slide"
    },
    "tags": []
   },
   "source": [
    "But if we reverse the indices, we jump around. In big matrices, this is important"
   ]
  },
  {
   "cell_type": "code",
   "execution_count": 13,
   "id": "c063f7ac-7b88-4a90-b999-eb2bdc11136b",
   "metadata": {
    "tags": []
   },
   "outputs": [
    {
     "name": "stdout",
     "output_type": "stream",
     "text": [
      "0x7f39bd17c000 0x7f39bd17c010 0x7f39bd17c020 0x7f39bd17c030 0x7f39bd17c040 0x7f39bd17c004 0x7f39bd17c014 0x7f39bd17c024 0x7f39bd17c034 0x7f39bd17c044 0x7f39bd17c008 0x7f39bd17c018 0x7f39bd17c028 0x7f39bd17c038 0x7f39bd17c048 0x7f39bd17c00c 0x7f39bd17c01c 0x7f39bd17c02c 0x7f39bd17c03c 0x7f39bd17c04c \n"
     ]
    }
   ],
   "source": [
    "std::array< std::array<int, 4>, 5> my2d{};\n",
    "for (int i=0; i< my2d[0].size(); i++) \n",
    "    for (int j=0; j< my2d.size(); j++)\n",
    "        std::cout << &(my2d[j][i]) << \" \";\n",
    "std::cout << std::endl;\n",
    "\n"
   ]
  },
  {
   "cell_type": "markdown",
   "id": "6f217de6-0958-42a5-af66-ab3b569d9544",
   "metadata": {
    "slideshow": {
     "slide_type": "slide"
    },
    "tags": []
   },
   "source": [
    "# Structures of arrays\n",
    "\n",
    "In adopting C++, HEP moved from Fortran common blocks to an object oriented class structure\n",
    "    \n",
    "Common blocks (as I used them to write my thesis) tended to look like\n",
    "   * ```track_px[n_track]```\n",
    "   * ```track_py[n_track]```\n",
    "   * ```track_pz[n_track]```\n",
    "   * or perhaps ```track_p[n_track,3]```\n",
    "\n",
    "With C++ we instead do\n",
    "   * ```std::vector<Track>``` \n",
    "   \n",
    "Eg, we moved from \"structures of arrays\" to \"arrays of structures\". This change is costly for cache locality. In computationally intensive kernels it is important to undone this change.\n",
    "  * Particuarly important for vectorized CPU kernels or GPU kernels"
   ]
  },
  {
   "cell_type": "markdown",
   "id": "9f306739-94a3-438d-af67-8475f0982515",
   "metadata": {
    "slideshow": {
     "slide_type": "slide"
    },
    "tags": []
   },
   "source": [
    "# Optimizing cache in general\n",
    "\n",
    "Try to avoid:\n",
    "  * Too many out-of-order jumps\n",
    "  * Too many functional calls with large and many arguments\n",
    "  * High level of recursion\n",
    "  * Not freeing memory even after its last use\n",
    "  * Random memory access"
   ]
  },
  {
   "cell_type": "markdown",
   "id": "7d0c4fb1-2c7f-4d4d-8a75-77ac76ba7e3e",
   "metadata": {
    "slideshow": {
     "slide_type": "slide"
    },
    "tags": []
   },
   "source": [
    "# Do less work (at run time)"
   ]
  },
  {
   "cell_type": "markdown",
   "id": "00b61cc5-b306-4fe9-af17-255573fb9667",
   "metadata": {
    "tags": []
   },
   "source": [
    "Avoid redunant calculations (seems obvious, but it isn't..). Most important example: avoid recomputation inside a loop (Particularly if it include ```/```, ```pow```, trig functions, etc)\n",
    "  "
   ]
  },
  {
   "cell_type": "code",
   "execution_count": 17,
   "id": "99d50a5f-6ead-4f47-9f05-38cff46f6676",
   "metadata": {
    "tags": []
   },
   "outputs": [
    {
     "name": "stdout",
     "output_type": "stream",
     "text": [
      "Total to all orders is 0.00800064\n"
     ]
    }
   ],
   "source": [
    "double m_higgs = 125.;\n",
    "std::vector<float> nll_coeff {1.0, 0.01, 1.5e-4, 2.6e-6};\n",
    "std::vector<float> result;\n",
    "\n",
    "double sum=0;\n",
    "int i=0;\n",
    "for (auto c: nll_coeff ) {\n",
    "    i+=1;\n",
    "    sum+= c/(std::pow(m_higgs,i));\n",
    "}\n",
    "std::cout << \"Total to all orders is \" << sum << std::endl;\n",
    "    "
   ]
  },
  {
   "cell_type": "markdown",
   "id": "6fa90a2a-c5d3-4f3c-ba74-80ca17ebc342",
   "metadata": {},
   "source": [
    "(The compiler might do it for you...) Optimize by moving the division outside of the loop"
   ]
  },
  {
   "cell_type": "code",
   "execution_count": 18,
   "id": "728c57c1-9e87-4c9d-b59f-a0721b5f31b0",
   "metadata": {
    "tags": []
   },
   "outputs": [
    {
     "name": "stdout",
     "output_type": "stream",
     "text": [
      "Total to all orders is 0.00800064\n"
     ]
    }
   ],
   "source": [
    "double m_higgs = 125.;\n",
    "std::vector<float> nll_coeff {1.0, 0.01, 1.5e-4, 2.6e-6};\n",
    "std::vector<float> result;\n",
    "\n",
    "double sum=0;\n",
    "int i=0;\n",
    "double m_higgs_inv = 1.0/m_higgs;\n",
    "\n",
    "for (auto c: nll_coeff ) {\n",
    "    i+=1;\n",
    "    sum+= c*(std::pow(m_higgs_inv,i));\n",
    "}\n",
    "std::cout << \"Total to all orders is \" << sum << std::endl;\n",
    "    "
   ]
  },
  {
   "cell_type": "code",
   "execution_count": null,
   "id": "aee3d0b8-0c55-4c05-a056-9aa961498bb6",
   "metadata": {},
   "outputs": [],
   "source": []
  }
 ],
 "metadata": {
  "kernelspec": {
   "display_name": "ROOT C++",
   "language": "c++",
   "name": "root"
  },
  "language_info": {
   "codemirror_mode": "text/x-c++src",
   "file_extension": ".C",
   "mimetype": " text/x-c++src",
   "name": "c++"
  }
 },
 "nbformat": 4,
 "nbformat_minor": 5
}
