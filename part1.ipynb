{
 "cells": [
  {
   "cell_type": "markdown",
   "id": "62d2b847-7e54-470e-ab31-696eba773af2",
   "metadata": {
    "slideshow": {
     "slide_type": "slide"
    },
    "tags": []
   },
   "source": [
    "# Topical lectures on modern C++ with a bias towards contributing to HEP codes \n",
    "\n",
    "Presenter: David Lange (Princeton University)\n",
    "\n",
    "May 2023 HSF-India tutorials"
   ]
  },
  {
   "cell_type": "markdown",
   "id": "c7c9942f-dc97-4cbb-873b-027b39454ec6",
   "metadata": {
    "slideshow": {
     "slide_type": "slide"
    },
    "tags": []
   },
   "source": [
    "# Goals for these lectures\n",
    "  * Introduce concepts needed for CUDA lectures later this week\n",
    "  * Introduce how the evolving C++ standard helps to write clear and performant code\n",
    "  * Introduce some needed techniques for developing codes in a larger ecosystem \n",
    "  \n",
    "# Topics for these lectures (today and tomorrow)\n",
    "  * Language introduction\n",
    "  * Declaration syntax\n",
    "  * Loops\n",
    "  * Standard Template Library\n",
    "  * Modern pointers\n",
    "  * Memory considerations\n",
    "  * Parallelism\n",
    "  * Compile and link\n",
    "  * Optimization\n",
    "  * Tools\n",
    "  "
   ]
  },
  {
   "cell_type": "markdown",
   "id": "ba724520-1a9e-4a9c-b0e2-6bd8e9b19a9e",
   "metadata": {
    "slideshow": {
     "slide_type": "slide"
    },
    "tags": []
   },
   "source": [
    "# C++ language and its evolution\n",
    "\n",
    "  * The C++ programming language was devised by Bjarne Stroustrup - then an employee of Bell Labs (AT&T). Stroustrup started working on C with Classes in 1979 and the first commercial release of the C++ language was in October 1985\n",
    "    * Strengths of C++ include how it allows researchers to write efficient code without losing high-level abstraction; its support for developing both large scale (eg, HPC) applications and low-level drivers and embedded systems; and its support for high-performance/latency-critical applications.\n",
    "    * Now a mature ecosystem: Many available utilities to help programmers write and debug. These include debuggers, memory checkers, coverage, static analysis, profiling tools, etc\n",
    "    * The C++ language continues to evolve to support modern architecturs and improved code quality/performance\n",
    "  * HEP moved to C++ (from Fortran) as its primary programming language for computationally intensive applications starting in the late 1990s. Now the field has 100s of millions of lines of code in production. It would be a significant undertaking to rewrite this code base."
   ]
  },
  {
   "cell_type": "markdown",
   "id": "c90e8dff-47fb-4381-80f7-5f4335ecf970",
   "metadata": {
    "slideshow": {
     "slide_type": "slide"
    },
    "tags": []
   },
   "source": [
    "# C++ language and its evolution (II)\n",
    "“The Evolution of C++Past, Present, and Future”, B. Stroustrup, CppCon16\n",
    "\n",
    "<img src=\"./dl_images/cppmap.png\" width=\"400\" />"
   ]
  },
  {
   "cell_type": "markdown",
   "id": "24972249-55e3-4353-b607-18440788805b",
   "metadata": {
    "slideshow": {
     "slide_type": "slide"
    },
    "tags": []
   },
   "source": [
    "# Resources\n",
    "\n",
    "## These are some web-based (and open) resources that you might find useful for following up on these lectures\n",
    "  * C++ standard pages https://github.com/isocpp/CppCoreGuidelines/blob/master/CppCoreGuidelines.md\n",
    "  * HSF C++ course: https://github.com/hsf-training/cpluspluscourse (including videos)\n",
    "  * github course I found\n",
    "  * https://en.cppreference.com/w/ : Usage and syntax including how it evolves with C++ standards and including (non-trivial) examples"
   ]
  },
  {
   "cell_type": "markdown",
   "id": "9b615e1d-294d-479d-8eb8-425b0923f826",
   "metadata": {
    "slideshow": {
     "slide_type": "slide"
    },
    "tags": []
   },
   "source": [
    "# C++ in notebooks\n",
    "\n",
    "  * Much of this course will be using C++ in notebooks. This is great for learning and prototyping.\n",
    "  * It does let us take shortcuts - for example, often proper header file includes can be skipped, compiling and linking happens behind the scenes so we do not need to worry about. \n",
    "    * Do not worry - we will come back to these topics at the end (hopefully)"
   ]
  },
  {
   "cell_type": "markdown",
   "id": "3b878604-9ad0-43e5-b58b-72d10daebc33",
   "metadata": {
    "slideshow": {
     "slide_type": "slide"
    },
    "tags": []
   },
   "source": [
    "# Declaring variables"
   ]
  },
  {
   "cell_type": "markdown",
   "id": "8dca3aba-49b4-412e-b6c0-fc0e652b9a06",
   "metadata": {},
   "source": [
    "  * C++ enforces type safety. This includes compile time checking"
   ]
  },
  {
   "cell_type": "code",
   "execution_count": null,
   "id": "378e6095-c44f-4f10-a6c3-f53d46506ccb",
   "metadata": {
    "tags": []
   },
   "outputs": [],
   "source": [
    "int16_t a = 1; // Prefer fixed-width (signed or unsigned) integers instead of native types\n",
    "int16_t a2(1); // Direct initialization\n",
    "int16_t a3=int(1); // Copy initialization\n",
    "int16_t a4{1}; // Copy-list initialization\n",
    "\n",
    "std::cout << a << \" \" << a2 << \" \" << a3 << \" \" << a4 << std::endl;"
   ]
  },
  {
   "cell_type": "code",
   "execution_count": null,
   "id": "fd3e3148-3dbc-462d-907d-f298236dc964",
   "metadata": {
    "slideshow": {
     "slide_type": "slide"
    },
    "tags": []
   },
   "outputs": [],
   "source": [
    "//Pitfalls that the compiler can help you avoid\n",
    "uint16_t c = -1;\n",
    "\n",
    "std::cout << c << std::endl;"
   ]
  },
  {
   "cell_type": "code",
   "execution_count": null,
   "id": "069b3257-affb-4f89-94bc-e517ab71e97a",
   "metadata": {
    "tags": []
   },
   "outputs": [],
   "source": [
    "// Prefer {} to = as it allows compile time checks\n",
    "uint16_t c{-1}; // {} allows the compiler to find your mistake at compile time"
   ]
  },
  {
   "cell_type": "code",
   "execution_count": null,
   "id": "1d1b5a15-1033-423c-8557-8c01e649fe8d",
   "metadata": {
    "slideshow": {
     "slide_type": "slide"
    },
    "tags": []
   },
   "outputs": [],
   "source": [
    "//Same for floats\n",
    "float f1=10e40;\n",
    "std::cout << f1 << std::endl;"
   ]
  },
  {
   "cell_type": "code",
   "execution_count": null,
   "id": "64507ed1-bed4-4082-bdeb-1968b7019b42",
   "metadata": {
    "slideshow": {
     "slide_type": "fragment"
    },
    "tags": []
   },
   "outputs": [],
   "source": [
    "float f2{10e40};"
   ]
  },
  {
   "cell_type": "markdown",
   "id": "faa472e7-4cf8-4d94-9310-17dfec569d76",
   "metadata": {
    "slideshow": {
     "slide_type": "slide"
    },
    "tags": []
   },
   "source": [
    "# Declaring arrays has also gotten easier"
   ]
  },
  {
   "cell_type": "code",
   "execution_count": null,
   "id": "1ae50f23-b9df-410b-942b-302fded1cdb9",
   "metadata": {
    "tags": []
   },
   "outputs": [],
   "source": [
    "//helper function\n",
    "template<class T>\n",
    "void print(T *arr, int16_t len) {\n",
    "   for ( int16_t i=0; i<len; i++ ) std::cout << arr[i] << \" \";\n",
    "   std::cout << std::endl; \n",
    "}"
   ]
  },
  {
   "cell_type": "code",
   "execution_count": null,
   "id": "1952b444-2291-442b-86f9-00186d93d31e",
   "metadata": {
    "tags": []
   },
   "outputs": [],
   "source": [
    "//An old way - lots of typing, and hard to read\n",
    "double a[4];\n",
    "a[0]=1.0;\n",
    "a[1]=1.0;\n",
    "a[2]=1.0;\n",
    "a[3]=1.0;\n",
    "print(a,4);\n"
   ]
  },
  {
   "cell_type": "code",
   "execution_count": null,
   "id": "c8755f88-b223-4eb3-a69d-82f17218507e",
   "metadata": {
    "slideshow": {
     "slide_type": "slide"
    },
    "tags": []
   },
   "outputs": [],
   "source": [
    "//Another old way\n",
    "double a[4];\n",
    "for ( int i=0; i<4; i++ ) { a[i] = 1.0; }\n",
    "print(a,4);"
   ]
  },
  {
   "cell_type": "code",
   "execution_count": null,
   "id": "24497c75-fa10-4321-b0b3-2c2fcabb5abc",
   "metadata": {
    "slideshow": {
     "slide_type": "slide"
    },
    "tags": []
   },
   "outputs": [],
   "source": [
    "//Example newer approaches\n",
    "double a[4]{1.0, 1.0, 1.0, 1.0};\n",
    "print(a,4);"
   ]
  },
  {
   "cell_type": "code",
   "execution_count": null,
   "id": "1f601f71-271a-412f-bc7f-d3824e4e1fa9",
   "metadata": {
    "tags": []
   },
   "outputs": [],
   "source": [
    "//or even shorter\n",
    "double a[]{1.0,1.0,1.0,1.0};\n",
    "std::cout << a[0] << \" \" << a[1] << \" \" << a[2] << \" \" << a[3] << std::endl;"
   ]
  },
  {
   "cell_type": "code",
   "execution_count": null,
   "id": "b98363f4-4288-4b96-b955-85bdd2b02b5c",
   "metadata": {
    "tags": []
   },
   "outputs": [],
   "source": [
    "//it is also easy to use the default initializer\n",
    "double a[4]{0};\n",
    "print(a,4);\n",
    "double b[4]{};\n",
    "print(b,4);"
   ]
  },
  {
   "cell_type": "code",
   "execution_count": null,
   "id": "8af50a60-2f95-40be-a47e-6de32f057e29",
   "metadata": {
    "slideshow": {
     "slide_type": "slide"
    },
    "tags": []
   },
   "outputs": [],
   "source": [
    "//maybe not the behavior that you expected?\n",
    "double a[4]{1.0};\n",
    "print(a,4);"
   ]
  },
  {
   "cell_type": "markdown",
   "id": "e1d06c17-e11e-43bc-9cbb-40cafc0f7bfc",
   "metadata": {},
   "source": [
    "  * We will come back to arrays later.."
   ]
  },
  {
   "cell_type": "markdown",
   "id": "afc5b044-8a57-4718-9d6e-f1f6d870c2ed",
   "metadata": {
    "@deathbeds/jupyterlab-fonts": {
     "styles": {
      "": {
       "body[data-jp-deck-mode='presenting'] &": {
        "height": null,
        "left": null,
        "position": null,
        "top": null,
        "width": null,
        "z-index": "-2"
       }
      }
     }
    },
    "slideshow": {
     "slide_type": "slide"
    },
    "tags": []
   },
   "source": [
    "# Lets talk about loops"
   ]
  },
  {
   "cell_type": "code",
   "execution_count": null,
   "id": "9b616eb8-001b-4773-b12b-7087d152757f",
   "metadata": {
    "tags": []
   },
   "outputs": [],
   "source": [
    "//Basic old-style loop\n",
    "double a[4]{1.0,2.0,4.0,9.0};\n",
    "\n",
    "double sum_sq{0.0};\n",
    "for (int i=0; i<4; i++) \n",
    "    sum_sq += a[i]*a[i];\n",
    "print(&sum_sq,1);\n"
   ]
  },
  {
   "cell_type": "code",
   "execution_count": null,
   "id": "eb9baf9b-e83b-413e-aeb5-e42068837645",
   "metadata": {
    "slideshow": {
     "slide_type": "slide"
    },
    "tags": []
   },
   "outputs": [],
   "source": [
    "\n",
    "//Range-based loops can simplify this syntax\n",
    "double sum_sq{0.0};\n",
    "for ( double v: a) \n",
    "    sum_sq += v*v;\n",
    "print(&sum_sq,1);"
   ]
  },
  {
   "cell_type": "code",
   "execution_count": null,
   "id": "463d0ac8-e198-4780-8de7-cae4a4af19c0",
   "metadata": {
    "slideshow": {
     "slide_type": "slide"
    },
    "tags": []
   },
   "outputs": [],
   "source": [
    "\n",
    "//You can also inline the values to loop over\n",
    "double sum_sq{0.0};\n",
    "for ( double v: {1.0,2.0,4.0,9.0}) \n",
    "    sum_sq += v*v;\n",
    "print(&sum_sq,1);"
   ]
  },
  {
   "cell_type": "code",
   "execution_count": null,
   "id": "9253caa5-3c0f-44b8-b278-f78f6d39a199",
   "metadata": {
    "slideshow": {
     "slide_type": "slide"
    },
    "tags": []
   },
   "outputs": [],
   "source": [
    "\n",
    "//And let the compiler understand the type using \"auto\"\n",
    "double sum_sq{0.0};\n",
    "for ( auto v: {1.0,2.0,4.0,9.0}) \n",
    "    sum_sq += v*v;\n",
    "print(&sum_sq,1);"
   ]
  },
  {
   "cell_type": "markdown",
   "id": "54b2d1b9-5359-4140-af65-272104f8c854",
   "metadata": {
    "slideshow": {
     "slide_type": "slide"
    },
    "tags": []
   },
   "source": [
    "# Pitfalls in loops"
   ]
  },
  {
   "cell_type": "code",
   "execution_count": null,
   "id": "839b936e-2191-463d-980f-680db9f1dc9f",
   "metadata": {
    "tags": []
   },
   "outputs": [],
   "source": [
    "float x = 0.0f;\n",
    "for (int i = 0; i < 40000000; i++) \n",
    "    x += 1.0f;\n",
    "std::cout << (int)x << std::endl;\n",
    "\n"
   ]
  },
  {
   "cell_type": "code",
   "execution_count": null,
   "id": "edb4a0fb-6c9e-4147-948c-16f4ca0b0929",
   "metadata": {
    "slideshow": {
     "slide_type": "fragment"
    },
    "tags": []
   },
   "outputs": [],
   "source": [
    "//Think about when to use floating point vs fixed point variables\n",
    "int64_t x = 0.0f;\n",
    "for (int i = 0; i < 40000000; i++) \n",
    "    x += 1;\n",
    "std::cout << (int)x << std::endl;\n",
    "\n"
   ]
  },
  {
   "cell_type": "markdown",
   "id": "d556f1af-6413-4dc0-a05d-fac63fdfc609",
   "metadata": {
    "slideshow": {
     "slide_type": "slide"
    },
    "tags": []
   },
   "source": [
    "  * This pitfall isn't really about loops, it is about floating point representations\n",
    "  * Floating point precision is finite! For example, floats in C++ have 1 sign bit, 8-bit exponent, 23-bit significand"
   ]
  },
  {
   "cell_type": "code",
   "execution_count": null,
   "id": "c016373f-acfe-4f4b-bea0-e7534d87def0",
   "metadata": {
    "tags": []
   },
   "outputs": [],
   "source": [
    "std::cout << 16777217 << std::endl;\n",
    "std::cout << (int) 16777217.0f << std::endl;\n",
    "std::cout << (int) 16777217.0 << std::endl; \n",
    "std::cout << (int) std::pow(2,24) << std::endl;"
   ]
  },
  {
   "cell_type": "markdown",
   "id": "22f9e4ff-dead-4681-a63e-6aea5668ea7e",
   "metadata": {},
   "source": [
    "  * using double precision is one solution (1 sign bit, 11-bit exponent, 52-bit significand), but requires 2x the clock cycles for any calculation\n",
    "  * Complex numerical calculations require care, especially when the developer does not know (or have control over) input parameters. Examples that you need to consider\n",
    "    * Overflows/underflows\n",
    "    * Precision loss due to accidental cancelation of terms"
   ]
  },
  {
   "cell_type": "markdown",
   "id": "1510646e-8988-4a63-ab2a-f7658eb6a02f",
   "metadata": {
    "slideshow": {
     "slide_type": "slide"
    },
    "tags": []
   },
   "source": [
    "# Using the Standard Template Library to reduce code complexity\n",
    "\n",
    "  * The STL is a set of powerful, predefined abstract datatypes, functions, and algorithms designed to handle user-specified datatypes (as well as basic types).\n",
    "  * By using them you can reduce the ammount of code you have to write and make it easier to optimize and maintain your code in the future (as the compiler will do that for you as it improves)\n",
    "  "
   ]
  },
  {
   "cell_type": "code",
   "execution_count": null,
   "id": "defa2a34-64f2-497e-87ed-4c618d637a98",
   "metadata": {
    "slideshow": {
     "slide_type": "slide"
    },
    "tags": []
   },
   "outputs": [],
   "source": [
    "// vector is a resizeable container of any type\n",
    "// For example, a vector of integers\n",
    "std::vector<int> a(10,1.0);\n",
    "print(&a[0],a.size());"
   ]
  },
  {
   "cell_type": "code",
   "execution_count": null,
   "id": "f69489d1-b014-4fca-83c5-f610df339dc3",
   "metadata": {
    "slideshow": {
     "slide_type": "fragment"
    },
    "tags": []
   },
   "outputs": [],
   "source": [
    "a.resize(20,2.0);\n",
    "print(&a[0],a.size());"
   ]
  },
  {
   "cell_type": "code",
   "execution_count": null,
   "id": "e27ad3ea-b3a2-4765-b171-63b4a22a1b17",
   "metadata": {
    "slideshow": {
     "slide_type": "slide"
    },
    "tags": []
   },
   "outputs": [],
   "source": [
    "\n",
    "// A common pattern to avoid when possible\n",
    "std::vector<int> a;\n",
    "for (int i=0; i<10; i++)\n",
    "    a.push_back(i*i);\n",
    "print(&a[0],a.size());\n"
   ]
  },
  {
   "cell_type": "markdown",
   "id": "0b60bf7f-ba6f-4103-b10e-6538e86c121b",
   "metadata": {
    "tags": []
   },
   "source": [
    "  * What is wrong with this syntax?"
   ]
  },
  {
   "cell_type": "markdown",
   "id": "10a905ce-d92f-45d8-a551-e3ab7a161bcb",
   "metadata": {
    "slideshow": {
     "slide_type": "slide"
    },
    "tags": []
   },
   "source": [
    "  * Memory is allocated when the vector length is increased. (in this simple example, the compiler likely optimizes it away)\n",
    "  * Repeated allocations are slow and fragment memory\n",
    "  * Use reserve to pre-allocate the size of the vector when you know the size of the vector"
   ]
  },
  {
   "cell_type": "code",
   "execution_count": null,
   "id": "642cef11-41b2-4f2d-b10a-d52b4b5f1911",
   "metadata": {
    "tags": []
   },
   "outputs": [],
   "source": [
    "\n",
    "std::vector<int> a;\n",
    "a.reserve(10);\n",
    "for (int i=0; i<10; i++)\n",
    "    a.push_back(i*i);\n",
    "print(&a[0],a.size());\n"
   ]
  },
  {
   "cell_type": "markdown",
   "id": "6aef7b04-4aee-42e5-bb8f-71043b1f412c",
   "metadata": {
    "slideshow": {
     "slide_type": "slide"
    },
    "tags": []
   },
   "source": [
    "# How should you loop over vectors? As with arrays, we can use recent language improvements to increase readability and performance"
   ]
  },
  {
   "cell_type": "code",
   "execution_count": null,
   "id": "0a05cbbf-e506-4944-8a5a-d2af06f9c983",
   "metadata": {
    "tags": []
   },
   "outputs": [],
   "source": [
    "std::vector<int> a(20,3.0);\n",
    "\n",
    "int sum=5;\n",
    "for ( std::vector<int>::size_type i=0; i< a.size(); i++)\n",
    "    sum += a[i];\n",
    "std::cout << sum << std::endl;"
   ]
  },
  {
   "cell_type": "code",
   "execution_count": null,
   "id": "dae372be-b20c-4146-a3d9-610d9a58adfb",
   "metadata": {
    "slideshow": {
     "slide_type": "slide"
    },
    "tags": []
   },
   "outputs": [],
   "source": [
    "int sum=5;\n",
    "for ( auto i = a.begin(); i!=a.end(); i++)\n",
    "    sum += *i;\n",
    "std::cout << sum << std::endl;"
   ]
  },
  {
   "cell_type": "code",
   "execution_count": null,
   "id": "ca4722d1-48da-42af-9b19-c0fdc55a0ab8",
   "metadata": {
    "slideshow": {
     "slide_type": "fragment"
    },
    "tags": []
   },
   "outputs": [],
   "source": [
    "int sum=5;\n",
    "for ( int i: a)\n",
    "    sum += a[i];\n",
    "std::cout << sum << std::endl;"
   ]
  },
  {
   "cell_type": "code",
   "execution_count": null,
   "id": "ebdf6ba5-49bf-483d-9b8f-11028d2dcb41",
   "metadata": {
    "slideshow": {
     "slide_type": "slide"
    },
    "tags": []
   },
   "outputs": [],
   "source": [
    "int sum=5;\n",
    "for ( auto i: a)\n",
    "    sum += a[i];\n",
    "std::cout << sum << std::endl;"
   ]
  },
  {
   "cell_type": "code",
   "execution_count": null,
   "id": "f947c25d-7e18-46e2-895d-918d9cefcda3",
   "metadata": {
    "slideshow": {
     "slide_type": "fragment"
    },
    "tags": []
   },
   "outputs": [],
   "source": [
    "int sum=5;\n",
    "for ( const auto &i: a)\n",
    "    sum += a[i];\n",
    "std::cout << sum << std::endl;"
   ]
  },
  {
   "cell_type": "markdown",
   "id": "f35497fc-bb82-4e29-8244-4690b8c2e6bd",
   "metadata": {},
   "source": [
    "  * What is the benefit of adding const &?"
   ]
  },
  {
   "cell_type": "markdown",
   "id": "17d8c418-cf5c-492e-926f-5527dd36f4c0",
   "metadata": {
    "slideshow": {
     "slide_type": "slide"
    },
    "tags": []
   },
   "source": [
    "# The STL also provides many helpful functions. "
   ]
  },
  {
   "cell_type": "code",
   "execution_count": null,
   "id": "76ebf250-fad8-45ad-9a9e-5b2f40bfefa0",
   "metadata": {
    "tags": []
   },
   "outputs": [],
   "source": [
    "// In this case, std::accumulate\n",
    "// lets you avoid writing the loop completely\n",
    "// Note: Can be used for variables of other types. Anything with a \"begin()\" and \"end()\" function\n",
    "int sum = std::accumulate(a.begin(), a.end(), 5);\n",
    "std::cout << sum << std::endl;"
   ]
  },
  {
   "cell_type": "code",
   "execution_count": null,
   "id": "0a441d9b-d31d-43e1-9507-da622f3923a2",
   "metadata": {
    "tags": []
   },
   "outputs": [],
   "source": [
    "//It is straightforward to customize which elements are considered. \n",
    "//For example, we can skip the first and last one\n",
    "int sum = std::accumulate(a.begin()+1, a.end()-1, 5);\n",
    "std::cout << sum << std::endl;\n",
    "//but beware of overflows and underflows if the length of the vector is unknown..."
   ]
  },
  {
   "cell_type": "markdown",
   "id": "ea819d00-9249-4f63-af14-3372310aaf84",
   "metadata": {
    "slideshow": {
     "slide_type": "slide"
    },
    "tags": []
   },
   "source": [
    "# You can also do more customized calculations with minimal code"
   ]
  },
  {
   "cell_type": "code",
   "execution_count": null,
   "id": "4456f0f2-071b-4e4f-b8d1-90757679030c",
   "metadata": {
    "tags": []
   },
   "outputs": [],
   "source": [
    "int sq(int c, int d) {return c + d*d;} \n",
    "int sum = std::accumulate(a.begin(), a.end(), 0,sq);\n",
    "std::cout << sum << std::endl;"
   ]
  },
  {
   "cell_type": "code",
   "execution_count": null,
   "id": "f53b8d2f-85ff-4855-943c-66d4d0797e9e",
   "metadata": {
    "tags": []
   },
   "outputs": [],
   "source": [
    "auto lambda = [&](int c, int d){return c + d*d; };\n",
    "int sum = std::accumulate(a.begin(), a.end(), 0,lambda);\n",
    "std::cout << sum << std::endl;"
   ]
  },
  {
   "cell_type": "markdown",
   "id": "10bc8b80-5cca-4048-abeb-01ef24c82180",
   "metadata": {},
   "source": [
    "  * Prefer lambda syntax here..."
   ]
  },
  {
   "cell_type": "markdown",
   "id": "b60de6bf-342e-49fe-904c-e8eab695e169",
   "metadata": {
    "tags": []
   },
   "source": [
    "  * Lets investigate other functions provided by the algorithm package https://en.cppreference.com/w/cpp/algorithm"
   ]
  },
  {
   "cell_type": "markdown",
   "id": "a586dde2-86a8-4453-ac59-15d6ba62baad",
   "metadata": {
    "slideshow": {
     "slide_type": "slide"
    },
    "tags": []
   },
   "source": [
    "# There is lots more beyond vectors in the STL\n",
    "\n",
    "  * array (prefer array to vector when possible)\n",
    "  * string (prefer string to char*, TString, or other custom string classes)\n",
    "  * map\n",
    "  * unordered_map (prefer unordered_map to map when possible)"
   ]
  },
  {
   "cell_type": "markdown",
   "id": "dfd88d72-cd80-4de3-969c-86f365ec9be5",
   "metadata": {
    "slideshow": {
     "slide_type": "slide"
    },
    "tags": []
   },
   "source": [
    "# Arrays are vectors that are not resizeable"
   ]
  },
  {
   "cell_type": "code",
   "execution_count": null,
   "id": "d050efe9-246c-499f-b54f-17abe152a167",
   "metadata": {
    "tags": []
   },
   "outputs": [],
   "source": [
    "//Initialization works just like before\n",
    "std::array<int, 10> a{1,2,3,4,5,6,7,8,9,10};\n",
    "print(&a[0],a.size());\n"
   ]
  },
  {
   "cell_type": "markdown",
   "id": "c9402982-13d4-4f1e-9d37-3755f34df4f7",
   "metadata": {},
   "source": [
    "# Why use arrays?\n",
    "\n",
    "  * Compared to using std::vector More memory efficient when you know the size of your array. std::array has zero memory overhead compared to raw arrays\n",
    "  * Compared to using raw arrays: like vector, std::array provides bounds checking and helper functions for things like copying and looping\n",
    "  * HEP note: Last I tried, ROOT serialization has a love-hate relationship with std::array. Use with care for use cases that "
   ]
  },
  {
   "cell_type": "markdown",
   "id": "55fc9fbf-b2d4-4514-9174-5e97f9130557",
   "metadata": {
    "slideshow": {
     "slide_type": "slide"
    },
    "tags": []
   },
   "source": [
    "# An example of added safety using std::array"
   ]
  },
  {
   "cell_type": "code",
   "execution_count": null,
   "id": "0d2a5a85-dd9f-4da2-99b3-df35e0a35103",
   "metadata": {
    "tags": []
   },
   "outputs": [],
   "source": [
    "int sum(const std::array<int, 10> &a) {\n",
    "   return std::accumulate(a.begin(),a.end(),0);\n",
    "}\n",
    "\n",
    "std::array<int, 10> a{1,2,3,4,5,6,7,8,9,10};\n",
    "std::cout << sum(a) << std::endl;"
   ]
  },
  {
   "cell_type": "markdown",
   "id": "2254a4a6-5a09-4fb8-841b-cda9ed58afa9",
   "metadata": {},
   "source": [
    "  * No need to worry about getting the wrong array length. The function interface enforces that the array should be length 10 (and provides a self documenting interface)"
   ]
  },
  {
   "cell_type": "markdown",
   "id": "5dbf9376-2450-4d09-bda8-7d7ffed9811b",
   "metadata": {
    "slideshow": {
     "slide_type": "slide"
    },
    "tags": []
   },
   "source": [
    "# Strings"
   ]
  },
  {
   "cell_type": "code",
   "execution_count": null,
   "id": "f55fed12-1e87-41c6-88e5-dd8724177db2",
   "metadata": {
    "tags": []
   },
   "outputs": [],
   "source": [
    "// Creating a string from const char*\n",
    "std::string str1 = \"hello\";\n",
    " \n",
    "// Creating a string using string literal\n",
    "auto str2 = \"world\"s;\n",
    " \n",
    "// Concatenating strings\n",
    "std::string str3 = str1 + \" \" + str2;\n",
    " \n",
    "// Print out the result\n",
    "std::cout << str3 << '\\n';"
   ]
  },
  {
   "cell_type": "code",
   "execution_count": null,
   "id": "bdd971fc-4536-4668-a57c-52a236765763",
   "metadata": {
    "slideshow": {
     "slide_type": "slide"
    },
    "tags": []
   },
   "outputs": [],
   "source": [
    " \n",
    "std::string::size_type pos = str3.find(\" \");\n",
    "str1 = str3.substr(pos + 1); // the part after the space\n",
    "str2 = str3.substr(0, pos);  // the part till the space\n",
    " \n",
    "std::cout << str1 << ' ' << str2 << '\\n';\n",
    " "
   ]
  },
  {
   "cell_type": "code",
   "execution_count": null,
   "id": "1665c12f-593d-466f-a99f-3dc36d0819aa",
   "metadata": {
    "slideshow": {
     "slide_type": "fragment"
    },
    "tags": []
   },
   "outputs": [],
   "source": [
    "// Accessing an element using subscript operator[]\n",
    "std::cout << str1[0] << '\\n';\n",
    "str1[0] = 'W';\n",
    "std::cout << str1 << '\\n';"
   ]
  },
  {
   "cell_type": "markdown",
   "id": "771d1ddb-1dd2-4bed-8cb8-bb2b23d2c0db",
   "metadata": {
    "slideshow": {
     "slide_type": "fragment"
    },
    "tags": []
   },
   "source": [
    "  * As we saw with std::vector, there are more and more helper functions that facilitate string manipulations in newer C++ standards. (but use Python if thats the primary purpose of your program...)  "
   ]
  },
  {
   "cell_type": "markdown",
   "id": "43b0fb98-ab78-40ce-bdfb-26635e7f7d49",
   "metadata": {
    "slideshow": {
     "slide_type": "slide"
    },
    "tags": []
   },
   "source": [
    "# map and unordered_map\n",
    "\n",
    "  * These containers do what their name suggests - store key-value pairs.\n",
    "  * std::map performance is O(log(n)) and elements are ordered\n",
    "  * std::unordered_map uses a hash table with performance between O(1) and O(n)\n",
    "  * Prefer std::vector to either when possible in performance sensitive applications (different from Python)."
   ]
  },
  {
   "cell_type": "code",
   "execution_count": null,
   "id": "cbc76f39-54f9-4823-a79c-cf0d1374190d",
   "metadata": {
    "slideshow": {
     "slide_type": "slide"
    },
    "tags": []
   },
   "outputs": [],
   "source": [
    "std::unordered_map<std::string, std::string> u = {\n",
    "     {\"RED\",\"#FF0000\"},\n",
    "     {\"GREEN\",\"#00FF00\"},\n",
    "     {\"BLUE\",\"#0000FF\"}\n",
    "};\n",
    " \n",
    "// Helper lambda function to print key-value pairs\n",
    "auto print_key_value = [](const auto& key, const auto& value) {\n",
    "    std::cout << \"Key:[\" << key << \"] Value:[\" << value << \"]\\n\";\n",
    "};\n",
    " \n",
    "std::cout << \"\\nIterate and print key-value pairs using C++17 structured binding:\\n\";\n",
    "for( const auto& [key, value] : u )\n",
    "    print_key_value(key, value);"
   ]
  },
  {
   "cell_type": "code",
   "execution_count": null,
   "id": "539889b4-eb01-4a12-97ae-a7acdb9159e2",
   "metadata": {
    "slideshow": {
     "slide_type": "slide"
    },
    "tags": []
   },
   "outputs": [],
   "source": [
    "\n",
    "// Add two new entries to the unordered_map\n",
    "u[\"BLACK\"] = \"#000000\";\n",
    "u[\"WHITE\"] = \"#FFFFFF\";\n",
    " \n",
    "std::cout << \"\\nCheck what we just did:\\n\"\n",
    "             \"The HEX of color RED is: \" << u[\"RED\"] << \"\\n\"\n",
    "             \"The HEX of color BLACK is: \" << u[\"BLACK\"] << \"\\n\";"
   ]
  },
  {
   "cell_type": "code",
   "execution_count": null,
   "id": "3ef596ee-c887-4185-9262-0dd27ee91c25",
   "metadata": {
    "slideshow": {
     "slide_type": "slide"
    },
    "tags": []
   },
   "outputs": [],
   "source": [
    "std::cout << \"\\nIterate and print key-value pairs using C++17 structured binding:\\n\";\n",
    "for( const auto& [key, value] : u )\n",
    "    print_key_value(key, value);\n",
    " "
   ]
  },
  {
   "cell_type": "markdown",
   "id": "3f21c3da-6af3-4e50-8546-f88c41e3d39f",
   "metadata": {},
   "source": [
    "# Pointers\n",
    "\n",
    "  * A \"pointer\" (eg, \"int*\") is a value referring to a memory location\n",
    "  * \"Dereference\" a pointer to get the value stored in that memory location\n",
    "  * Pointers support operators (+,-,++,--), subscript operators [] and comparison operators (==, !=)"
   ]
  },
  {
   "cell_type": "code",
   "execution_count": null,
   "id": "574e63d3-133c-498d-a645-91b1ed3540b0",
   "metadata": {
    "tags": []
   },
   "outputs": [],
   "source": [
    "int* ptr = nullptr; // avoid ptr=0 for type safety checks\n",
    "\n",
    "ptr = new int; // create an integer on the heap\n",
    "*ptr = 10;\n",
    "std::cout << *ptr << std::endl;\n",
    "delete ptr; //always clean up (unless some other variable takes ownership)"
   ]
  },
  {
   "cell_type": "code",
   "execution_count": null,
   "id": "1147d1a3-72ce-4813-84a9-711d85e9934c",
   "metadata": {
    "slideshow": {
     "slide_type": "slide"
    },
    "tags": []
   },
   "outputs": [],
   "source": [
    "// Similarly you can allocate an array\n",
    "int* ptr = new int[10]; //create an array of integers on the heap\n",
    "ptr[2]=10;\n",
    "int myint = ptr[2];\n",
    "std::cout << myint << std::endl;\n",
    "delete [] ptr; //always clean up (unless some other variable takes ownership)"
   ]
  },
  {
   "cell_type": "code",
   "execution_count": null,
   "id": "ee67aa7c-c1c5-4b77-a60d-05e2440e0dbb",
   "metadata": {
    "slideshow": {
     "slide_type": "slide"
    },
    "tags": []
   },
   "outputs": [],
   "source": [
    "int vals[4] = {1, 2, 3, 4}; \n",
    "int *ptr = vals;\n",
    "std::cout << ptr[1] << std::endl; "
   ]
  },
  {
   "cell_type": "code",
   "execution_count": null,
   "id": "5fc903c8-586a-4796-85ae-fbf060894379",
   "metadata": {
    "slideshow": {
     "slide_type": "slide"
    },
    "tags": []
   },
   "outputs": [],
   "source": [
    "// Two other ways to say the same thing\n",
    "std::cout << *(ptr + 1) << std::endl; \n",
    "\n",
    "int* ptr1 = ptr + 2; \n",
    "std::cout << ptr1[-1] << std::endl;"
   ]
  },
  {
   "cell_type": "code",
   "execution_count": null,
   "id": "e221a356-4680-4c9a-9631-a2c53748a874",
   "metadata": {
    "slideshow": {
     "slide_type": "slide"
    },
    "tags": []
   },
   "outputs": [],
   "source": [
    "// We can also inspect the memory location\n",
    "std::cout << ptr << std::endl;"
   ]
  },
  {
   "cell_type": "code",
   "execution_count": null,
   "id": "513a4eb0-e561-4fb6-ae37-ca8a80c37a82",
   "metadata": {
    "slideshow": {
     "slide_type": "slide"
    },
    "tags": []
   },
   "outputs": [],
   "source": [
    "std::cout << ptr + 1 << std::endl; "
   ]
  },
  {
   "cell_type": "markdown",
   "id": "a10d3904-e3cf-424b-8b28-da520503a9b0",
   "metadata": {
    "slideshow": {
     "slide_type": "slide"
    },
    "tags": []
   },
   "source": [
    "# Best practice - use modern pointers when possible\n",
    "\n",
    "  * std::unique_ptr and std::shared_ptr let you avoid worrying about memory management. As it is easy to forget to delete memory you allocated, this is very convienent.\n",
    "      \n"
   ]
  },
  {
   "cell_type": "markdown",
   "id": "146c15b6-de48-4afb-94a4-4285b547e2b5",
   "metadata": {
    "slideshow": {
     "slide_type": "slide"
    },
    "tags": []
   },
   "source": [
    "# std::unique_ptr"
   ]
  },
  {
   "cell_type": "code",
   "execution_count": null,
   "id": "f926f6e7-99b5-4eef-b85d-a0604582ac19",
   "metadata": {
    "tags": []
   },
   "outputs": [],
   "source": [
    "#include <memory>\n",
    "std::unique_ptr<int> p{ new int{10} };\n",
    "\n",
    "//Or avoid \"new\" completely\n",
    "std::unique_ptr<int> p1 = std::make_unique<int>(11);\n",
    "\n",
    "//Print the value and get the memory location\n",
    "std::cout << *p << \" \" << p.get() << \" \" << *p1 << \" \" << p1.get() << std::endl;"
   ]
  },
  {
   "cell_type": "markdown",
   "id": "63c402b3-63e7-43c0-bc6b-fdb9b8b0c6d0",
   "metadata": {
    "tags": []
   },
   "source": [
    "# unique_ptrs are *unique*"
   ]
  },
  {
   "cell_type": "code",
   "execution_count": null,
   "id": "34adaa93-b870-4baa-a5a7-b543469e5ecd",
   "metadata": {
    "tags": []
   },
   "outputs": [],
   "source": [
    "std::unique_ptr<int> p2;\n",
    "p2=p;"
   ]
  },
  {
   "cell_type": "markdown",
   "id": "d3efc817-35d9-485c-92e3-a6aa102e12f3",
   "metadata": {},
   "source": [
    "# Instead their ownership can be transfered"
   ]
  },
  {
   "cell_type": "code",
   "execution_count": null,
   "id": "7960e8d2-7de6-4fa7-bac2-d58d15f2e886",
   "metadata": {
    "tags": []
   },
   "outputs": [],
   "source": [
    "std::unique_ptr<int> p2(std::move(p));\n",
    "std::cout << *p2 << \" \" << p2.get() << \" \" << std::endl;"
   ]
  },
  {
   "cell_type": "markdown",
   "id": "fbed02d8-5dff-4655-9e90-e60af6a05b94",
   "metadata": {},
   "source": [
    "  * When the unique_ptr goes out of scope, the memory it points to is cleaned up\n",
    "  "
   ]
  },
  {
   "cell_type": "markdown",
   "id": "831a449a-6690-4cfe-a27a-ab8770d201c8",
   "metadata": {},
   "source": [
    "# shared_ptrs are a reference counted alternative\n",
    "\n",
    "  * Memory is cleaned up when no variable refers to the memory"
   ]
  },
  {
   "cell_type": "code",
   "execution_count": 7,
   "id": "d4abfc5a-b51f-4ac7-974b-18e041f74657",
   "metadata": {
    "tags": []
   },
   "outputs": [
    {
     "name": "stdout",
     "output_type": "stream",
     "text": [
      "2 12 13\n"
     ]
    }
   ],
   "source": [
    "auto sptr = std::make_shared<int>(12);\n",
    "auto sptr2 = sptr; //now this works and creates another \"reference\"\n",
    "std::cout << sptr.use_count() << \" \" << (*sptr) << \" \" << ++(*sptr) << std::endl;"
   ]
  },
  {
   "cell_type": "markdown",
   "id": "a6035fa9-37ce-41c6-b998-db7295828498",
   "metadata": {},
   "source": [
    "  * Thats the end of this notebook..."
   ]
  }
 ],
 "metadata": {
  "kernelspec": {
   "display_name": "ROOT C++",
   "language": "c++",
   "name": "root"
  },
  "language_info": {
   "codemirror_mode": "text/x-c++src",
   "file_extension": ".C",
   "mimetype": " text/x-c++src",
   "name": "c++"
  }
 },
 "nbformat": 4,
 "nbformat_minor": 5
}
