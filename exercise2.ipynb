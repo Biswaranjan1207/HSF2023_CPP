{
 "cells": [
  {
   "cell_type": "markdown",
   "id": "62983bc3-ae30-42a6-bd71-75ee70ff0101",
   "metadata": {},
   "source": [
    "# A second short exercise\n",
    "\n",
    "  * Implement a lambda that approximates the derivative of a given function \n",
    "  * Compile and run as a program\n",
    "  * Demonstrate it using a function with a known derivative\n",
    "  * Compare results of your lambda approximation against the true derivative"
   ]
  },
  {
   "cell_type": "code",
   "execution_count": null,
   "id": "a2dca36a-ffe2-4493-a514-e34054e51f96",
   "metadata": {},
   "outputs": [],
   "source": []
  }
 ],
 "metadata": {
  "kernelspec": {
   "display_name": "ROOT C++",
   "language": "c++",
   "name": "root"
  },
  "language_info": {
   "codemirror_mode": "text/x-c++src",
   "file_extension": ".C",
   "mimetype": " text/x-c++src",
   "name": "c++"
  }
 },
 "nbformat": 4,
 "nbformat_minor": 5
}
