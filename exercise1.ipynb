{
 "cells": [
  {
   "cell_type": "markdown",
   "id": "a3cc0e38-b8be-46be-ba61-ee55374642bf",
   "metadata": {},
   "source": [
    "# Time for short exercise\n",
    "  * Copy and modify these funtions. Look for ways that they can be updated and create a new version of each "
   ]
  },
  {
   "cell_type": "code",
   "execution_count": 24,
   "id": "e989e00b-6dd9-4068-8835-e77f3ded5e1f",
   "metadata": {
    "tags": []
   },
   "outputs": [],
   "source": [
    "//Modified from https://github.com/hsf-training/cpluspluscourse/\n",
    "#include <iostream>\n",
    "#include <cmath>\n",
    "#include <cstdlib>\n",
    "\n",
    "constexpr auto LEN = 1000;\n",
    "constexpr auto STEP = 7;"
   ]
  },
  {
   "cell_type": "code",
   "execution_count": 30,
   "id": "e8028f3f-0dc1-44b6-855e-e4653ba02a0a",
   "metadata": {
    "tags": []
   },
   "outputs": [],
   "source": [
    "void randomize(int* v, unsigned int length) {\n",
    "    // we randomize via len random inversions\n",
    "    for (unsigned int i = 0; i < length; i++) {\n",
    "        int a = rand()%length;\n",
    "        int b = rand()%length;\n",
    "        int mem = v[a];\n",
    "        v[a] = v[b];\n",
    "        v[b] = mem;\n",
    "    }\n",
    "}"
   ]
  },
  {
   "cell_type": "code",
   "execution_count": 31,
   "id": "3c93ddcb-b717-40f3-922b-a202db9c81b7",
   "metadata": {
    "tags": []
   },
   "outputs": [],
   "source": [
    "void runit() {\n",
    "    // create vector\n",
    "    int *v = new int[LEN+1];\n",
    "    for (unsigned int i = 0; i <= LEN; i++) v[i] = i*STEP;\n",
    "\n",
    "    // randomize it\n",
    "    randomize(v, LEN+1);\n",
    "\n",
    "    // compute diffs of neighboring elements\n",
    "    int *diffs = new int[LEN];\n",
    "    for (unsigned int i = 0; i < LEN; i++)\n",
    "        diffs[i] = v[i+1] - v[i];\n",
    "\n",
    "    // compute standard deviation of it\n",
    "    float sum = 0;\n",
    "    float sumsq = 0;\n",
    "    for (unsigned int i = 0; i < LEN; i ++) {\n",
    "        sum += diffs[i];\n",
    "        sumsq += diffs[i]*diffs[i];\n",
    "    }\n",
    "    float mean = sum/LEN;\n",
    "    float stddev = std::sqrt(sumsq/LEN - mean*mean) ;\n",
    "    std::cout << \"Range = [0, \" << STEP*LEN << \"]\\n\"\n",
    "              << \"Mean = \" << mean\n",
    "              << \"\\nStdDev = \" << stddev << '\\n';\n",
    "\n",
    "    delete[] v;\n",
    "    delete[] diffs;\n",
    "}"
   ]
  },
  {
   "cell_type": "code",
   "execution_count": 32,
   "id": "1723ba0c-14e6-480e-a087-a2d96a1f0090",
   "metadata": {
    "tags": []
   },
   "outputs": [
    {
     "name": "stdout",
     "output_type": "stream",
     "text": [
      "Range = [0, 7000]\n",
      "Mean = 3.843\n",
      "StdDev = 2849.21\n"
     ]
    }
   ],
   "source": [
    "runit();"
   ]
  },
  {
   "cell_type": "code",
   "execution_count": 15,
   "id": "28ef5df5-2307-4439-a1bf-eaf9a8ecf531",
   "metadata": {
    "tags": []
   },
   "outputs": [],
   "source": [
    "//fill in your code here\n",
    "void randomize_new() {\n",
    "}\n"
   ]
  },
  {
   "cell_type": "code",
   "execution_count": 16,
   "id": "c8db0385-279e-4973-9bbf-2f293b133ca7",
   "metadata": {
    "tags": []
   },
   "outputs": [],
   "source": [
    "//fill in your code here\n",
    "void runit_new() {\n",
    "}"
   ]
  },
  {
   "cell_type": "code",
   "execution_count": 17,
   "id": "ce7f266d-a997-4cda-8e29-73ab338aea08",
   "metadata": {
    "tags": []
   },
   "outputs": [],
   "source": [
    "//Check that it works\n",
    "runit_new();"
   ]
  },
  {
   "cell_type": "code",
   "execution_count": null,
   "id": "4ba11d96-1b25-4869-be6a-7c699e053994",
   "metadata": {},
   "outputs": [],
   "source": []
  }
 ],
 "metadata": {
  "kernelspec": {
   "display_name": "ROOT C++",
   "language": "c++",
   "name": "root"
  },
  "language_info": {
   "codemirror_mode": "text/x-c++src",
   "file_extension": ".C",
   "mimetype": " text/x-c++src",
   "name": "c++"
  }
 },
 "nbformat": 4,
 "nbformat_minor": 5
}
