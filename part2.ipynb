{
 "cells": [
  {
   "cell_type": "markdown",
   "id": "898b1c54-e686-4b88-9116-a4cde7328edf",
   "metadata": {
    "tags": []
   },
   "source": [
    "# Highlights of Compiling, linking, and the C++ ecosystem\n",
    "\n",
    "  * So far we did everything within the interactive environment.\n",
    "  * To contribute to larger projects and to build optimized applications, we need to use the compiler directly\n",
    "  "
   ]
  },
  {
   "cell_type": "markdown",
   "id": "3f47c4ea-d63a-4f36-959f-63646d2a832c",
   "metadata": {},
   "source": [
    "# C++ Compilers\n",
    "\n",
    "Widely used compilers include:\n",
    "  * GCC is the current standard in HEP\n",
    "  * LLVM/Clang\n",
    "  * Intel/ICC\n",
    "  * Microsoft/MSVC\n",
    "  \n",
    "We will use GCC today. The syntax is essentially the same (some compiler options might be different)\n",
    "\n",
    "Best practice note: Using 2 will help find bugs and practices that do not conform to the C++ standard. Each compiler is different \n"
   ]
  },
  {
   "cell_type": "markdown",
   "id": "4a376b8e-aa1d-4def-9c09-5f1ed40a9524",
   "metadata": {
    "tags": []
   },
   "source": [
    "# What do compilers do?\n",
    "\n",
    "Inputs can be\n",
    "   * source code \n",
    "   * header/interface files\n",
    "   * already built libraries\n",
    "   \n",
    "Output can be\n",
    "   * Object files\n",
    "   * libraries \n",
    "   * executables\n",
    "   \n",
    "Typical usage is to build objects files, (optionally) combine them into libraries, and build an overall executable"
   ]
  },
  {
   "cell_type": "markdown",
   "id": "5bab00fd-8062-42ae-92b4-bfbec24d6e5e",
   "metadata": {},
   "source": [
    "<img src=\"./images/compile.png\" width=\"500\" />"
   ]
  },
  {
   "cell_type": "markdown",
   "id": "590e2dba-d7f9-4dfd-9c47-16aafa427604",
   "metadata": {
    "tags": []
   },
   "source": [
    "# Essential options\n",
    "\n",
    "Execution\n",
    "  * ```-E``` stop after preprocessing \n",
    "  * ```-c``` stop after compilation \n",
    "\n",
    "Optimization\n",
    "  * ```-g``` add debug symbols\n",
    "  * ```-O0``` no optimization - Use ```-g -O0``` to debug\n",
    "  * ```-O2``` and ```-O3``` to have the compiler (highly) optimize [```-O3``` is a good default]\n",
    "  \n",
    "File management\n",
    "  * ```-I<directory>``` Directory in which to look for header/include files (use multiple ```-I``` for multiple paths)\n",
    "  * ```-L<directory>``` Directory in which to look for (shared) libraries (use multiple ```-L``` for multiple paths)\n",
    "  * ```-l<lib name>``` Library to link against (but drop the leading ```lib``` and trailing ```.so``` or ```.a```\n",
    "  * ```-o<output name>``` Output file\n",
    "  "
   ]
  },
  {
   "cell_type": "markdown",
   "id": "a6756ebd-02b6-445f-a6e1-a467a05c0b8b",
   "metadata": {},
   "source": [
    "# More essential options\n",
    "\n",
    "Compiler configuration\n",
    "  * ```-std=c++14``` to set the C++ standard to use (11,14,17,20....)\n",
    "  * ```-fPIC``` needed when compiling for shared libraries\n",
    "  \n",
    "Warnings\n",
    "  * ```-Wall``` get all warnings (but only a message in stdout..)\n",
    "  * ```-Werror``` Any warning stops compilation\n",
    "  * You also have fine-grained control over different types of warnings to enable as errors\n",
    "  \n",
    "Best practice: Use ```-Wall``` - warnings are more often than not a sign of a code bug"
   ]
  },
  {
   "cell_type": "markdown",
   "id": "6e4295c3-5a8e-439b-ab3b-e5b116deb1cb",
   "metadata": {
    "tags": []
   },
   "source": [
    "# Lets try it"
   ]
  },
  {
   "cell_type": "markdown",
   "id": "81ef3044-a102-410e-97a5-821246482b06",
   "metadata": {},
   "source": [
    "  * First lets look at the environment"
   ]
  },
  {
   "cell_type": "code",
   "execution_count": 24,
   "id": "4795d50b-03e0-4355-9dc9-2615908706ed",
   "metadata": {
    "tags": []
   },
   "outputs": [
    {
     "name": "stdout",
     "output_type": "stream",
     "text": [
      "hello.cpp\n",
      "main.cpp\n",
      "\n",
      "some include files too\n",
      "Untitled.ipynb\n",
      "hello.hpp\n"
     ]
    }
   ],
   "source": [
    "%%sh\n",
    "cd /notebook/code\n",
    "ls *.cpp\n",
    "echo \"\\nsome include files too\"\n",
    "ls includes"
   ]
  },
  {
   "cell_type": "code",
   "execution_count": 25,
   "id": "83830ad2-cc4d-4d26-9e01-fc433a157d6c",
   "metadata": {
    "tags": []
   },
   "outputs": [
    {
     "name": "stdout",
     "output_type": "stream",
     "text": [
      "/opt/conda/envs/2023-05-01-hsf-india-tutorial/bin/g++\n"
     ]
    }
   ],
   "source": [
    "%%sh\n",
    "which g++"
   ]
  },
  {
   "cell_type": "code",
   "execution_count": 26,
   "id": "c8610f7d-c3dc-409e-b783-ff54ab339c6b",
   "metadata": {
    "tags": []
   },
   "outputs": [
    {
     "name": "stderr",
     "output_type": "stream",
     "text": [
      "hello.cpp:1:10: fatal error: hello.hpp: No such file or directory\n",
      "    1 | #include \"hello.hpp\"\n",
      "      |          ^~~~~~~~~~~\n",
      "compilation terminated.\n"
     ]
    },
    {
     "ename": "CalledProcessError",
     "evalue": "Command 'b'g++ -c hello.cpp\\n'' returned non-zero exit status 1.",
     "output_type": "error",
     "traceback": [
      "\u001b[0;31m---------------------------------------------------------------------------\u001b[0m",
      "\u001b[0;31mCalledProcessError\u001b[0m                        Traceback (most recent call last)",
      "Cell \u001b[0;32mIn[26], line 1\u001b[0m\n\u001b[0;32m----> 1\u001b[0m \u001b[43mget_ipython\u001b[49m\u001b[43m(\u001b[49m\u001b[43m)\u001b[49m\u001b[38;5;241;43m.\u001b[39;49m\u001b[43mrun_cell_magic\u001b[49m\u001b[43m(\u001b[49m\u001b[38;5;124;43m'\u001b[39;49m\u001b[38;5;124;43msh\u001b[39;49m\u001b[38;5;124;43m'\u001b[39;49m\u001b[43m,\u001b[49m\u001b[43m \u001b[49m\u001b[38;5;124;43m'\u001b[39;49m\u001b[38;5;124;43m'\u001b[39;49m\u001b[43m,\u001b[49m\u001b[43m \u001b[49m\u001b[38;5;124;43m'\u001b[39;49m\u001b[38;5;124;43mg++ -c hello.cpp\u001b[39;49m\u001b[38;5;130;43;01m\\n\u001b[39;49;00m\u001b[38;5;124;43m'\u001b[39;49m\u001b[43m)\u001b[49m\n",
      "File \u001b[0;32m/opt/conda/envs/2023-05-01-hsf-india-tutorial/lib/python3.10/site-packages/IPython/core/interactiveshell.py:2475\u001b[0m, in \u001b[0;36mInteractiveShell.run_cell_magic\u001b[0;34m(self, magic_name, line, cell)\u001b[0m\n\u001b[1;32m   2473\u001b[0m \u001b[38;5;28;01mwith\u001b[39;00m \u001b[38;5;28mself\u001b[39m\u001b[38;5;241m.\u001b[39mbuiltin_trap:\n\u001b[1;32m   2474\u001b[0m     args \u001b[38;5;241m=\u001b[39m (magic_arg_s, cell)\n\u001b[0;32m-> 2475\u001b[0m     result \u001b[38;5;241m=\u001b[39m \u001b[43mfn\u001b[49m\u001b[43m(\u001b[49m\u001b[38;5;241;43m*\u001b[39;49m\u001b[43margs\u001b[49m\u001b[43m,\u001b[49m\u001b[43m \u001b[49m\u001b[38;5;241;43m*\u001b[39;49m\u001b[38;5;241;43m*\u001b[39;49m\u001b[43mkwargs\u001b[49m\u001b[43m)\u001b[49m\n\u001b[1;32m   2477\u001b[0m \u001b[38;5;66;03m# The code below prevents the output from being displayed\u001b[39;00m\n\u001b[1;32m   2478\u001b[0m \u001b[38;5;66;03m# when using magics with decodator @output_can_be_silenced\u001b[39;00m\n\u001b[1;32m   2479\u001b[0m \u001b[38;5;66;03m# when the last Python token in the expression is a ';'.\u001b[39;00m\n\u001b[1;32m   2480\u001b[0m \u001b[38;5;28;01mif\u001b[39;00m \u001b[38;5;28mgetattr\u001b[39m(fn, magic\u001b[38;5;241m.\u001b[39mMAGIC_OUTPUT_CAN_BE_SILENCED, \u001b[38;5;28;01mFalse\u001b[39;00m):\n",
      "File \u001b[0;32m/opt/conda/envs/2023-05-01-hsf-india-tutorial/lib/python3.10/site-packages/IPython/core/magics/script.py:153\u001b[0m, in \u001b[0;36mScriptMagics._make_script_magic.<locals>.named_script_magic\u001b[0;34m(line, cell)\u001b[0m\n\u001b[1;32m    151\u001b[0m \u001b[38;5;28;01melse\u001b[39;00m:\n\u001b[1;32m    152\u001b[0m     line \u001b[38;5;241m=\u001b[39m script\n\u001b[0;32m--> 153\u001b[0m \u001b[38;5;28;01mreturn\u001b[39;00m \u001b[38;5;28;43mself\u001b[39;49m\u001b[38;5;241;43m.\u001b[39;49m\u001b[43mshebang\u001b[49m\u001b[43m(\u001b[49m\u001b[43mline\u001b[49m\u001b[43m,\u001b[49m\u001b[43m \u001b[49m\u001b[43mcell\u001b[49m\u001b[43m)\u001b[49m\n",
      "File \u001b[0;32m/opt/conda/envs/2023-05-01-hsf-india-tutorial/lib/python3.10/site-packages/IPython/core/magics/script.py:305\u001b[0m, in \u001b[0;36mScriptMagics.shebang\u001b[0;34m(self, line, cell)\u001b[0m\n\u001b[1;32m    300\u001b[0m \u001b[38;5;28;01mif\u001b[39;00m args\u001b[38;5;241m.\u001b[39mraise_error \u001b[38;5;129;01mand\u001b[39;00m p\u001b[38;5;241m.\u001b[39mreturncode \u001b[38;5;241m!=\u001b[39m \u001b[38;5;241m0\u001b[39m:\n\u001b[1;32m    301\u001b[0m     \u001b[38;5;66;03m# If we get here and p.returncode is still None, we must have\u001b[39;00m\n\u001b[1;32m    302\u001b[0m     \u001b[38;5;66;03m# killed it but not yet seen its return code. We don't wait for it,\u001b[39;00m\n\u001b[1;32m    303\u001b[0m     \u001b[38;5;66;03m# in case it's stuck in uninterruptible sleep. -9 = SIGKILL\u001b[39;00m\n\u001b[1;32m    304\u001b[0m     rc \u001b[38;5;241m=\u001b[39m p\u001b[38;5;241m.\u001b[39mreturncode \u001b[38;5;129;01mor\u001b[39;00m \u001b[38;5;241m-\u001b[39m\u001b[38;5;241m9\u001b[39m\n\u001b[0;32m--> 305\u001b[0m     \u001b[38;5;28;01mraise\u001b[39;00m CalledProcessError(rc, cell)\n",
      "\u001b[0;31mCalledProcessError\u001b[0m: Command 'b'g++ -c hello.cpp\\n'' returned non-zero exit status 1."
     ]
    }
   ],
   "source": [
    "%%sh\n",
    "cd /notebook/code\n",
    "g++ -c hello.cpp"
   ]
  },
  {
   "cell_type": "markdown",
   "id": "69359fdf-1e0a-4020-9b6b-614555778172",
   "metadata": {},
   "source": [
    "Whoops, we need to tell the compiler where to find the include file that our code uses"
   ]
  },
  {
   "cell_type": "code",
   "execution_count": 28,
   "id": "f3ce4ee8-c7ec-4d6d-86aa-558909536ce7",
   "metadata": {
    "tags": []
   },
   "outputs": [],
   "source": [
    "%%sh\n",
    "cd /notebook/code\n",
    "g++ -c hello.cpp -I./includes"
   ]
  },
  {
   "cell_type": "markdown",
   "id": "f57e2f45-4186-4e12-972e-e43c04e03f8b",
   "metadata": {},
   "source": [
    "And we should add recommended options"
   ]
  },
  {
   "cell_type": "code",
   "execution_count": 30,
   "id": "fae91f98-1b6d-4268-b046-23155afc4761",
   "metadata": {
    "tags": []
   },
   "outputs": [
    {
     "name": "stderr",
     "output_type": "stream",
     "text": [
      "hello.cpp: In function 'void checkIt()':\n",
      "hello.cpp:13:7: warning: unused variable 'i' [-Wunused-variable]\n",
      "   13 |   int i;\n",
      "      |       ^\n"
     ]
    }
   ],
   "source": [
    "%%sh\n",
    "cd /notebook/code\n",
    "g++ -c hello.cpp -I./includes -Wall -std=c++17"
   ]
  },
  {
   "cell_type": "markdown",
   "id": "97700554-1ad0-4265-b658-4661f6c339bd",
   "metadata": {},
   "source": [
    "Whoops, we found a bug. lets fix it and try again"
   ]
  },
  {
   "cell_type": "code",
   "execution_count": 33,
   "id": "0eaa70bb-77a5-4b98-a78c-4241dfb0ce15",
   "metadata": {
    "tags": []
   },
   "outputs": [
    {
     "name": "stdout",
     "output_type": "stream",
     "text": [
      "-rw-r--r-- 1 root root 15080 Apr 29 04:34 hello.o\n"
     ]
    }
   ],
   "source": [
    "%%sh\n",
    "cd /notebook/code\n",
    "g++ -c hello.cpp -I./includes -Wall -std=c++17\n",
    "ls -l hello.o"
   ]
  },
  {
   "cell_type": "markdown",
   "id": "12b61c57-6a98-4da4-8936-072c687ffc4f",
   "metadata": {},
   "source": [
    "Great. Now it works. We can also optimize our program"
   ]
  },
  {
   "cell_type": "code",
   "execution_count": 52,
   "id": "b518abdb-5810-4598-b67f-fc14238038ce",
   "metadata": {
    "tags": []
   },
   "outputs": [
    {
     "name": "stdout",
     "output_type": "stream",
     "text": [
      "-rw-r--r-- 1 root root 4432 Apr 29 04:42 hello.o\n"
     ]
    }
   ],
   "source": [
    "%%sh\n",
    "cd /notebook/code\n",
    "g++ -c hello.cpp -I./includes -Wall  -std=c++17 -O3\n",
    "ls -l hello.o"
   ]
  },
  {
   "cell_type": "markdown",
   "id": "2792ff6b-9a54-4e7a-b67f-bf59b0ac5fc1",
   "metadata": {},
   "source": [
    "Great - this is a simple program, so we can build an executable just with this"
   ]
  },
  {
   "cell_type": "code",
   "execution_count": 53,
   "id": "7e09eb33-4518-4edd-9693-39b3109a86bd",
   "metadata": {
    "tags": []
   },
   "outputs": [
    {
     "name": "stdout",
     "output_type": "stream",
     "text": [
      "-rwxr-xr-x 1 root root 16896 Apr 29 04:42 a.out\n"
     ]
    }
   ],
   "source": [
    "%%sh\n",
    "cd /notebook/code\n",
    "g++ main.cpp hello.o -I./includes -std=c++17\n",
    "ls -l a.out"
   ]
  },
  {
   "cell_type": "markdown",
   "id": "7538f993-281d-4a40-b66a-15284c20b40d",
   "metadata": {},
   "source": [
    "Whoops - lets give our program a better name"
   ]
  },
  {
   "cell_type": "code",
   "execution_count": 54,
   "id": "609195cf-c0fc-48f4-ae01-2c944d1ae59f",
   "metadata": {
    "tags": []
   },
   "outputs": [
    {
     "name": "stdout",
     "output_type": "stream",
     "text": [
      "-rwxr-xr-x 1 root root 16896 Apr 29 04:42 hello_world\n"
     ]
    }
   ],
   "source": [
    "%%sh\n",
    "cd /notebook/code\n",
    "g++ main.cpp hello.o -I./includes -o hello_world\n",
    "ls -l hello_world"
   ]
  },
  {
   "cell_type": "markdown",
   "id": "423a9fad-4b1c-44e1-9998-1ce813c862f4",
   "metadata": {},
   "source": [
    "And run it"
   ]
  },
  {
   "cell_type": "code",
   "execution_count": 55,
   "id": "7b6a2c39-5fc6-45a7-b3d4-22fed32d2133",
   "metadata": {
    "tags": []
   },
   "outputs": [
    {
     "name": "stdout",
     "output_type": "stream",
     "text": [
      "Hello, world 0\n",
      "Hello, world 1\n",
      "Hello, world 2\n",
      "Bonjour\n",
      "Ciao\n",
      "Guten Tag\n",
      "Hello\n"
     ]
    }
   ],
   "source": [
    "%%sh\n",
    "cd /notebook/code\n",
    "./hello_world"
   ]
  },
  {
   "cell_type": "markdown",
   "id": "241d3313-eb02-46ea-9bb8-c70dfef6a4de",
   "metadata": {},
   "source": [
    "We can also make a static library and link against it"
   ]
  },
  {
   "cell_type": "code",
   "execution_count": 56,
   "id": "57261f47-6142-4eb7-b55a-4826a95b62f5",
   "metadata": {
    "tags": []
   },
   "outputs": [
    {
     "name": "stdout",
     "output_type": "stream",
     "text": [
      "-rw-r--r-- 1 root root 4632 Apr 29 04:42 libhello.a\n",
      "-rwxr-xr-x 1 root root 16896 Apr 29 04:42 hello_world\n"
     ]
    }
   ],
   "source": [
    "%%sh\n",
    "cd /notebook/code\n",
    "rm hello_world\n",
    "ar rcs libhello.a hello.o\n",
    "ls -l libhello.a\n",
    "rm hello.o\n",
    "g++ main.cpp -I./includes -lhello -L. -o hello_world\n",
    "ls -l hello_world"
   ]
  },
  {
   "cell_type": "markdown",
   "id": "3b9ef452-94a7-4598-bd50-af6d73e8aa8a",
   "metadata": {},
   "source": [
    "Now lets try the same, but with a shared library"
   ]
  },
  {
   "cell_type": "code",
   "execution_count": 60,
   "id": "37ff8f43-c2bf-4251-8a1b-e7dddb998031",
   "metadata": {
    "tags": []
   },
   "outputs": [],
   "source": [
    "%%sh\n",
    "cd /notebook/code\n",
    "rm libhello.a hello.o hello_world"
   ]
  },
  {
   "cell_type": "code",
   "execution_count": 66,
   "id": "fe7bc3a7-436e-4289-b6a0-a0564d3d310e",
   "metadata": {
    "tags": []
   },
   "outputs": [
    {
     "name": "stdout",
     "output_type": "stream",
     "text": [
      "-rw-r--r-- 1 root root 4432 Apr 29 04:46 hello.o\n"
     ]
    }
   ],
   "source": [
    "%%sh\n",
    "cd /notebook/code\n",
    "g++ -c hello.cpp -I./includes  -Wall -std=c++17 -O3 -fPIC \n",
    "ls -l hello.o"
   ]
  },
  {
   "cell_type": "markdown",
   "id": "f98052b9-4fff-469a-9907-ee5f36b43fd7",
   "metadata": {
    "tags": []
   },
   "source": [
    "Next build the shared library itself"
   ]
  },
  {
   "cell_type": "code",
   "execution_count": 71,
   "id": "08dcc722-65a1-45ff-a57a-c82ee12fe8ea",
   "metadata": {
    "tags": []
   },
   "outputs": [
    {
     "name": "stdout",
     "output_type": "stream",
     "text": [
      "-rwxr-xr-x 1 root root 16192 Apr 29 04:47 libhello.so\n"
     ]
    }
   ],
   "source": [
    "%%sh\n",
    "cd /notebook/code\n",
    "g++ hello.o -shared -o libhello.so\n",
    "ls -l libhello.so"
   ]
  },
  {
   "cell_type": "markdown",
   "id": "ddc7b4ab-319d-4198-81b5-8229f06b79b8",
   "metadata": {},
   "source": [
    "And the executable"
   ]
  },
  {
   "cell_type": "code",
   "execution_count": 74,
   "id": "9227587e-7c19-4166-9854-ba8ea3e0fd5a",
   "metadata": {
    "tags": []
   },
   "outputs": [
    {
     "name": "stdout",
     "output_type": "stream",
     "text": [
      "-rwxr-xr-x 1 root root 16040 Apr 29 04:48 hello_world\n"
     ]
    }
   ],
   "source": [
    "%%sh\n",
    "cd /notebook/code\n",
    "g++ main.cpp -I./includes -lhello -L. -o hello_world\n",
    "ls -l hello_world"
   ]
  },
  {
   "cell_type": "markdown",
   "id": "b0ee0c80-95f8-4a8d-8894-a5980c681c11",
   "metadata": {},
   "source": [
    "And run it"
   ]
  },
  {
   "cell_type": "code",
   "execution_count": 76,
   "id": "0be08e31-5649-4053-a901-ff570dea206e",
   "metadata": {
    "tags": []
   },
   "outputs": [
    {
     "name": "stderr",
     "output_type": "stream",
     "text": [
      "./hello_world: error while loading shared libraries: libhello.so: cannot open shared object file: No such file or directory\n"
     ]
    },
    {
     "ename": "CalledProcessError",
     "evalue": "Command 'b'./hello_world\\n'' returned non-zero exit status 127.",
     "output_type": "error",
     "traceback": [
      "\u001b[0;31m---------------------------------------------------------------------------\u001b[0m",
      "\u001b[0;31mCalledProcessError\u001b[0m                        Traceback (most recent call last)",
      "Cell \u001b[0;32mIn[76], line 1\u001b[0m\n\u001b[0;32m----> 1\u001b[0m \u001b[43mget_ipython\u001b[49m\u001b[43m(\u001b[49m\u001b[43m)\u001b[49m\u001b[38;5;241;43m.\u001b[39;49m\u001b[43mrun_cell_magic\u001b[49m\u001b[43m(\u001b[49m\u001b[38;5;124;43m'\u001b[39;49m\u001b[38;5;124;43msh\u001b[39;49m\u001b[38;5;124;43m'\u001b[39;49m\u001b[43m,\u001b[49m\u001b[43m \u001b[49m\u001b[38;5;124;43m'\u001b[39;49m\u001b[38;5;124;43m'\u001b[39;49m\u001b[43m,\u001b[49m\u001b[43m \u001b[49m\u001b[38;5;124;43m'\u001b[39;49m\u001b[38;5;124;43m./hello_world\u001b[39;49m\u001b[38;5;130;43;01m\\n\u001b[39;49;00m\u001b[38;5;124;43m'\u001b[39;49m\u001b[43m)\u001b[49m\n",
      "File \u001b[0;32m/opt/conda/envs/2023-05-01-hsf-india-tutorial/lib/python3.10/site-packages/IPython/core/interactiveshell.py:2475\u001b[0m, in \u001b[0;36mInteractiveShell.run_cell_magic\u001b[0;34m(self, magic_name, line, cell)\u001b[0m\n\u001b[1;32m   2473\u001b[0m \u001b[38;5;28;01mwith\u001b[39;00m \u001b[38;5;28mself\u001b[39m\u001b[38;5;241m.\u001b[39mbuiltin_trap:\n\u001b[1;32m   2474\u001b[0m     args \u001b[38;5;241m=\u001b[39m (magic_arg_s, cell)\n\u001b[0;32m-> 2475\u001b[0m     result \u001b[38;5;241m=\u001b[39m \u001b[43mfn\u001b[49m\u001b[43m(\u001b[49m\u001b[38;5;241;43m*\u001b[39;49m\u001b[43margs\u001b[49m\u001b[43m,\u001b[49m\u001b[43m \u001b[49m\u001b[38;5;241;43m*\u001b[39;49m\u001b[38;5;241;43m*\u001b[39;49m\u001b[43mkwargs\u001b[49m\u001b[43m)\u001b[49m\n\u001b[1;32m   2477\u001b[0m \u001b[38;5;66;03m# The code below prevents the output from being displayed\u001b[39;00m\n\u001b[1;32m   2478\u001b[0m \u001b[38;5;66;03m# when using magics with decodator @output_can_be_silenced\u001b[39;00m\n\u001b[1;32m   2479\u001b[0m \u001b[38;5;66;03m# when the last Python token in the expression is a ';'.\u001b[39;00m\n\u001b[1;32m   2480\u001b[0m \u001b[38;5;28;01mif\u001b[39;00m \u001b[38;5;28mgetattr\u001b[39m(fn, magic\u001b[38;5;241m.\u001b[39mMAGIC_OUTPUT_CAN_BE_SILENCED, \u001b[38;5;28;01mFalse\u001b[39;00m):\n",
      "File \u001b[0;32m/opt/conda/envs/2023-05-01-hsf-india-tutorial/lib/python3.10/site-packages/IPython/core/magics/script.py:153\u001b[0m, in \u001b[0;36mScriptMagics._make_script_magic.<locals>.named_script_magic\u001b[0;34m(line, cell)\u001b[0m\n\u001b[1;32m    151\u001b[0m \u001b[38;5;28;01melse\u001b[39;00m:\n\u001b[1;32m    152\u001b[0m     line \u001b[38;5;241m=\u001b[39m script\n\u001b[0;32m--> 153\u001b[0m \u001b[38;5;28;01mreturn\u001b[39;00m \u001b[38;5;28;43mself\u001b[39;49m\u001b[38;5;241;43m.\u001b[39;49m\u001b[43mshebang\u001b[49m\u001b[43m(\u001b[49m\u001b[43mline\u001b[49m\u001b[43m,\u001b[49m\u001b[43m \u001b[49m\u001b[43mcell\u001b[49m\u001b[43m)\u001b[49m\n",
      "File \u001b[0;32m/opt/conda/envs/2023-05-01-hsf-india-tutorial/lib/python3.10/site-packages/IPython/core/magics/script.py:305\u001b[0m, in \u001b[0;36mScriptMagics.shebang\u001b[0;34m(self, line, cell)\u001b[0m\n\u001b[1;32m    300\u001b[0m \u001b[38;5;28;01mif\u001b[39;00m args\u001b[38;5;241m.\u001b[39mraise_error \u001b[38;5;129;01mand\u001b[39;00m p\u001b[38;5;241m.\u001b[39mreturncode \u001b[38;5;241m!=\u001b[39m \u001b[38;5;241m0\u001b[39m:\n\u001b[1;32m    301\u001b[0m     \u001b[38;5;66;03m# If we get here and p.returncode is still None, we must have\u001b[39;00m\n\u001b[1;32m    302\u001b[0m     \u001b[38;5;66;03m# killed it but not yet seen its return code. We don't wait for it,\u001b[39;00m\n\u001b[1;32m    303\u001b[0m     \u001b[38;5;66;03m# in case it's stuck in uninterruptible sleep. -9 = SIGKILL\u001b[39;00m\n\u001b[1;32m    304\u001b[0m     rc \u001b[38;5;241m=\u001b[39m p\u001b[38;5;241m.\u001b[39mreturncode \u001b[38;5;129;01mor\u001b[39;00m \u001b[38;5;241m-\u001b[39m\u001b[38;5;241m9\u001b[39m\n\u001b[0;32m--> 305\u001b[0m     \u001b[38;5;28;01mraise\u001b[39;00m CalledProcessError(rc, cell)\n",
      "\u001b[0;31mCalledProcessError\u001b[0m: Command 'b'./hello_world\\n'' returned non-zero exit status 127."
     ]
    }
   ],
   "source": [
    "%%sh\n",
    "cd /notebook/code\n",
    "./hello_world"
   ]
  },
  {
   "cell_type": "markdown",
   "id": "5abc6334-42b9-4cc7-b1e0-d26b26e1ad74",
   "metadata": {},
   "source": [
    "whoops - that did not work because with shared libraries need to be available/findable at run time"
   ]
  },
  {
   "cell_type": "code",
   "execution_count": 78,
   "id": "03f2c6da-f6ee-49dc-8ad6-a403bd94bf34",
   "metadata": {
    "tags": []
   },
   "outputs": [
    {
     "name": "stdout",
     "output_type": "stream",
     "text": [
      "Hello, world 0\n",
      "Hello, world 1\n",
      "Hello, world 2\n",
      "Bonjour\n",
      "Ciao\n",
      "Guten Tag\n",
      "Hello\n"
     ]
    }
   ],
   "source": [
    "%%sh\n",
    "cd /notebook/code\n",
    "export LD_LIBRARY_PATH=$PWD\n",
    "./hello_world"
   ]
  },
  {
   "cell_type": "markdown",
   "id": "802dc18c-cf7d-4c72-9dfb-56142da83040",
   "metadata": {
    "slideshow": {
     "slide_type": "slide"
    },
    "tags": []
   },
   "source": [
    "Now it works.\n",
    "  * We adjusted LD_LIBRARY_PATH at run time to find the library we just built. \n",
    "\n",
    "Shared libraries are the recommended approach for complex programs. This differs from static linking:\n",
    "  * All ```.so``` must be available at run time.\n",
    "  * No need to relink the program when a single translation unit is changed. Just recompile it and remake the corresponding shared library.\n",
    "  * Large flexibly enhancement, but normally at a small computational penelty"
   ]
  },
  {
   "cell_type": "markdown",
   "id": "749d1048-4ae4-4b0b-8419-02bb6e48e35f",
   "metadata": {},
   "source": [
    "# How to generalize this for your program?\n",
    "\n",
    "  * For each source translation unit (```cpp``` file)\n",
    "```g++ -fPIC <file> -I./includes -O3``` <br>\n",
    "```g++ <list of .o files> -shared -o <output library name>``` <br>\n",
    "```g++ <file with main> -l<library name> .... options```"
   ]
  },
  {
   "cell_type": "markdown",
   "id": "ce7e36a8-f8fd-4058-a71d-badd836b36d0",
   "metadata": {},
   "source": [
    "# Automating your compile and link steps\n",
    "\n",
    "  * Makefiles (simple but relatively hardcoded)\n",
    "  * automake (relatively obsolete now)\n",
    "  * cmake -- Flexible and powerful\n",
    "  \n",
    "**Recommendation: Use cmake**\n",
    "\n",
    "Learning cmake is highly useful when managing libraries and programs (I need to learn it too - so I won't try to teach it) \n",
    "  * Here is a course on it ADD LINK"
   ]
  },
  {
   "cell_type": "markdown",
   "id": "c62e4a2c-e425-4415-81b3-ed01998a8896",
   "metadata": {},
   "source": [
    "# Selected tools from C++ ecosystem"
   ]
  },
  {
   "cell_type": "markdown",
   "id": "8b31a36c-a580-4c34-816c-ed1b1ca7102e",
   "metadata": {},
   "source": [
    "# Valgrind: Debugging memory issues\n",
    "\n",
    "Signs of having memory issues in your program\n",
    "  * Continued growth in RSS\n",
    "  * Irreproducible results or program crashes"
   ]
  },
  {
   "cell_type": "code",
   "execution_count": 1,
   "id": "a777ce59-3752-4389-b204-8b096d2180a9",
   "metadata": {
    "tags": []
   },
   "outputs": [
    {
     "name": "stderr",
     "output_type": "stream",
     "text": [
      "buggy.cpp: In function 'int main()':\n",
      "buggy.cpp:4:42: warning: unused variable 'my_array' [-Wunused-variable]\n",
      "    4 |   std::array < std::array<int, 32>, 16 > my_array;\n",
      "      |                                          ^~~~~~~~\n"
     ]
    },
    {
     "name": "stdout",
     "output_type": "stream",
     "text": [
      "-rwxr-xr-x 1 root root 16000 Apr 29 15:38 buggy_exec\n"
     ]
    }
   ],
   "source": [
    "%%sh\n",
    "cd /notebook/code\n",
    "g++ buggy.cpp -Wall -std=c++17 -o buggy_exec\n",
    "ls -l buggy_exec"
   ]
  },
  {
   "cell_type": "code",
   "execution_count": 2,
   "id": "58a791fc-43fb-4197-b409-737c0089ffe8",
   "metadata": {
    "tags": []
   },
   "outputs": [],
   "source": [
    "%%sh\n",
    "cd /notebook/code\n",
    "./buggy_exec\n"
   ]
  },
  {
   "cell_type": "code",
   "execution_count": 3,
   "id": "b3a6cf80-25a3-4c43-819b-939f00ab3e11",
   "metadata": {
    "tags": []
   },
   "outputs": [
    {
     "name": "stdout",
     "output_type": "stream",
     "text": [
      "#include <array>\n",
      "\n",
      "int main() {\n",
      "  std::array < std::array<int, 32>, 16 > my_array;\n",
      "\n",
      "  //for ( int i=0; i<16; i++)\n",
      "  //  for ( int j=0; j<32; j++)\n",
      "  //    my_array[i][j]=i+j;\n",
      "\n",
      "  //int sum=0;\n",
      "  //for ( int i=0; i<32; i++ )\n",
      "  //  for ( int j=0; j<32; j++)\n",
      "  //    sum+=my_array[i][j];\n",
      "    \n",
      "  int *myints = new int[20];\n",
      "  myints[0]=0;\n",
      "    \n",
      "  return 0;\n",
      "}\n"
     ]
    }
   ],
   "source": [
    "%%sh\n",
    "cd /notebook/code\n",
    "cat buggy.cpp"
   ]
  },
  {
   "cell_type": "code",
   "execution_count": 4,
   "id": "5a1bd04c-87c8-4973-aca7-68c2166b800c",
   "metadata": {
    "tags": []
   },
   "outputs": [
    {
     "name": "stdout",
     "output_type": "stream",
     "text": [
      "/usr/local/bin/valgrind\n",
      "valgrind-3.21.0\n"
     ]
    },
    {
     "name": "stderr",
     "output_type": "stream",
     "text": [
      "==1603== Memcheck, a memory error detector\n",
      "==1603== Copyright (C) 2002-2022, and GNU GPL'd, by Julian Seward et al.\n",
      "==1603== Using Valgrind-3.21.0 and LibVEX; rerun with -h for copyright info\n",
      "==1603== Command: ./buggy_exec\n",
      "==1603== \n",
      "\n",
      "valgrind:  Fatal error at startup: a function redirection\n",
      "valgrind:  which is mandatory for this platform-tool combination\n",
      "valgrind:  cannot be set up.  Details of the redirection are:\n",
      "valgrind:  \n",
      "valgrind:  A must-be-redirected function\n",
      "valgrind:  whose name matches the pattern:      strlen\n",
      "valgrind:  in an object with soname matching:   ld-linux-x86-64.so.2\n",
      "valgrind:  was not found whilst processing\n",
      "valgrind:  symbols from the object with soname: ld-linux-x86-64.so.2\n",
      "valgrind:  \n",
      "valgrind:  Possible fixes: (1, short term): install glibc's debuginfo\n",
      "valgrind:  package on this machine.  (2, longer term): ask the packagers\n",
      "valgrind:  for your Linux distribution to please in future ship a non-\n",
      "valgrind:  stripped ld.so (or whatever the dynamic linker .so is called)\n",
      "valgrind:  that exports the above-named function using the standard\n",
      "valgrind:  calling conventions for this platform.  The package you need\n",
      "valgrind:  to install for fix (1) is called\n",
      "valgrind:  \n",
      "valgrind:    On Debian, Ubuntu:                 libc6-dbg\n",
      "valgrind:    On SuSE, openSuSE, Fedora, RHEL:   glibc-debuginfo\n",
      "valgrind:  \n",
      "valgrind:  Note that if you are debugging a 32 bit process on a\n",
      "valgrind:  64 bit system, you will need a corresponding 32 bit debuginfo\n",
      "valgrind:  package (e.g. libc6-dbg:i386).\n",
      "valgrind:  \n",
      "valgrind:  Cannot continue -- exiting now.  Sorry.\n",
      "\n"
     ]
    },
    {
     "ename": "CalledProcessError",
     "evalue": "Command 'b'cd /notebook/code\\nwhich valgrind\\nvalgrind --version\\nvalgrind --tool=memcheck ./buggy_exec\\n'' returned non-zero exit status 1.",
     "output_type": "error",
     "traceback": [
      "\u001b[0;31m---------------------------------------------------------------------------\u001b[0m",
      "\u001b[0;31mCalledProcessError\u001b[0m                        Traceback (most recent call last)",
      "Cell \u001b[0;32mIn[4], line 1\u001b[0m\n\u001b[0;32m----> 1\u001b[0m \u001b[43mget_ipython\u001b[49m\u001b[43m(\u001b[49m\u001b[43m)\u001b[49m\u001b[38;5;241;43m.\u001b[39;49m\u001b[43mrun_cell_magic\u001b[49m\u001b[43m(\u001b[49m\u001b[38;5;124;43m'\u001b[39;49m\u001b[38;5;124;43msh\u001b[39;49m\u001b[38;5;124;43m'\u001b[39;49m\u001b[43m,\u001b[49m\u001b[43m \u001b[49m\u001b[38;5;124;43m'\u001b[39;49m\u001b[38;5;124;43m'\u001b[39;49m\u001b[43m,\u001b[49m\u001b[43m \u001b[49m\u001b[38;5;124;43m'\u001b[39;49m\u001b[38;5;124;43mcd /notebook/code\u001b[39;49m\u001b[38;5;130;43;01m\\n\u001b[39;49;00m\u001b[38;5;124;43mwhich valgrind\u001b[39;49m\u001b[38;5;130;43;01m\\n\u001b[39;49;00m\u001b[38;5;124;43mvalgrind --version\u001b[39;49m\u001b[38;5;130;43;01m\\n\u001b[39;49;00m\u001b[38;5;124;43mvalgrind --tool=memcheck ./buggy_exec\u001b[39;49m\u001b[38;5;130;43;01m\\n\u001b[39;49;00m\u001b[38;5;124;43m'\u001b[39;49m\u001b[43m)\u001b[49m\n",
      "File \u001b[0;32m/opt/conda/envs/2023-05-01-hsf-india-tutorial/lib/python3.10/site-packages/IPython/core/interactiveshell.py:2478\u001b[0m, in \u001b[0;36mInteractiveShell.run_cell_magic\u001b[0;34m(self, magic_name, line, cell)\u001b[0m\n\u001b[1;32m   2476\u001b[0m \u001b[38;5;28;01mwith\u001b[39;00m \u001b[38;5;28mself\u001b[39m\u001b[38;5;241m.\u001b[39mbuiltin_trap:\n\u001b[1;32m   2477\u001b[0m     args \u001b[38;5;241m=\u001b[39m (magic_arg_s, cell)\n\u001b[0;32m-> 2478\u001b[0m     result \u001b[38;5;241m=\u001b[39m \u001b[43mfn\u001b[49m\u001b[43m(\u001b[49m\u001b[38;5;241;43m*\u001b[39;49m\u001b[43margs\u001b[49m\u001b[43m,\u001b[49m\u001b[43m \u001b[49m\u001b[38;5;241;43m*\u001b[39;49m\u001b[38;5;241;43m*\u001b[39;49m\u001b[43mkwargs\u001b[49m\u001b[43m)\u001b[49m\n\u001b[1;32m   2480\u001b[0m \u001b[38;5;66;03m# The code below prevents the output from being displayed\u001b[39;00m\n\u001b[1;32m   2481\u001b[0m \u001b[38;5;66;03m# when using magics with decodator @output_can_be_silenced\u001b[39;00m\n\u001b[1;32m   2482\u001b[0m \u001b[38;5;66;03m# when the last Python token in the expression is a ';'.\u001b[39;00m\n\u001b[1;32m   2483\u001b[0m \u001b[38;5;28;01mif\u001b[39;00m \u001b[38;5;28mgetattr\u001b[39m(fn, magic\u001b[38;5;241m.\u001b[39mMAGIC_OUTPUT_CAN_BE_SILENCED, \u001b[38;5;28;01mFalse\u001b[39;00m):\n",
      "File \u001b[0;32m/opt/conda/envs/2023-05-01-hsf-india-tutorial/lib/python3.10/site-packages/IPython/core/magics/script.py:153\u001b[0m, in \u001b[0;36mScriptMagics._make_script_magic.<locals>.named_script_magic\u001b[0;34m(line, cell)\u001b[0m\n\u001b[1;32m    151\u001b[0m \u001b[38;5;28;01melse\u001b[39;00m:\n\u001b[1;32m    152\u001b[0m     line \u001b[38;5;241m=\u001b[39m script\n\u001b[0;32m--> 153\u001b[0m \u001b[38;5;28;01mreturn\u001b[39;00m \u001b[38;5;28;43mself\u001b[39;49m\u001b[38;5;241;43m.\u001b[39;49m\u001b[43mshebang\u001b[49m\u001b[43m(\u001b[49m\u001b[43mline\u001b[49m\u001b[43m,\u001b[49m\u001b[43m \u001b[49m\u001b[43mcell\u001b[49m\u001b[43m)\u001b[49m\n",
      "File \u001b[0;32m/opt/conda/envs/2023-05-01-hsf-india-tutorial/lib/python3.10/site-packages/IPython/core/magics/script.py:305\u001b[0m, in \u001b[0;36mScriptMagics.shebang\u001b[0;34m(self, line, cell)\u001b[0m\n\u001b[1;32m    300\u001b[0m \u001b[38;5;28;01mif\u001b[39;00m args\u001b[38;5;241m.\u001b[39mraise_error \u001b[38;5;129;01mand\u001b[39;00m p\u001b[38;5;241m.\u001b[39mreturncode \u001b[38;5;241m!=\u001b[39m \u001b[38;5;241m0\u001b[39m:\n\u001b[1;32m    301\u001b[0m     \u001b[38;5;66;03m# If we get here and p.returncode is still None, we must have\u001b[39;00m\n\u001b[1;32m    302\u001b[0m     \u001b[38;5;66;03m# killed it but not yet seen its return code. We don't wait for it,\u001b[39;00m\n\u001b[1;32m    303\u001b[0m     \u001b[38;5;66;03m# in case it's stuck in uninterruptible sleep. -9 = SIGKILL\u001b[39;00m\n\u001b[1;32m    304\u001b[0m     rc \u001b[38;5;241m=\u001b[39m p\u001b[38;5;241m.\u001b[39mreturncode \u001b[38;5;129;01mor\u001b[39;00m \u001b[38;5;241m-\u001b[39m\u001b[38;5;241m9\u001b[39m\n\u001b[0;32m--> 305\u001b[0m     \u001b[38;5;28;01mraise\u001b[39;00m CalledProcessError(rc, cell)\n",
      "\u001b[0;31mCalledProcessError\u001b[0m: Command 'b'cd /notebook/code\\nwhich valgrind\\nvalgrind --version\\nvalgrind --tool=memcheck ./buggy_exec\\n'' returned non-zero exit status 1."
     ]
    }
   ],
   "source": [
    "%%sh\n",
    "cd /notebook/code\n",
    "which valgrind\n",
    "valgrind --version\n",
    "valgrind --tool=memcheck ./buggy_exec"
   ]
  },
  {
   "cell_type": "markdown",
   "id": "8cd39b3e-2e35-4bda-9062-20ab3a9dee04",
   "metadata": {
    "slideshow": {
     "slide_type": "slide"
    },
    "tags": []
   },
   "source": [
    "# Code formating using ```clang-format``` \n",
    "\n",
    "  * ```clang-format``` automatically formats your code according to your specificiations. It Integrates into your CI, editor, etc. \n",
    "      * Has several predefined styles and considerable customization options\n",
    "      * Likely your experiment is using one (well, hopefully!)\n",
    "      * Compiler driven, so if you have problems with clang-format, be sure that your code compiles..\n",
    "  * Standardized code style increases readability. This is especially important in collaborative projects where you need to be able to read and understand code written by others. Even if its not in your preferred style, a unified style helps considerably \n",
    "\n",
    "  "
   ]
  },
  {
   "cell_type": "code",
   "execution_count": 19,
   "id": "a8bb1ebb-e029-4266-8366-36f1193a3cb0",
   "metadata": {
    "slideshow": {
     "slide_type": "slide"
    },
    "tags": []
   },
   "outputs": [
    {
     "name": "stdout",
     "output_type": "stream",
     "text": [
      "/opt/conda/envs/2023-05-01-hsf-india-tutorial/bin/clang-format\n"
     ]
    }
   ],
   "source": [
    "%%sh\n",
    "which clang-format"
   ]
  },
  {
   "cell_type": "code",
   "execution_count": 17,
   "id": "9686f129-c153-47fb-a88b-3b7a5ff555e1",
   "metadata": {
    "slideshow": {
     "slide_type": "slide"
    },
    "tags": []
   },
   "outputs": [
    {
     "name": "stdout",
     "output_type": "stream",
     "text": [
      "OVERVIEW: A tool to format C/C++/Java/JavaScript/JSON/Objective-C/Protobuf/C# code.\n",
      "\n",
      "If no arguments are specified, it formats the code from standard input\n",
      "and writes the result to the standard output.\n",
      "If <file>s are given, it reformats the files. If -i is specified\n",
      "together with <file>s, the files are edited in-place. Otherwise, the\n",
      "result is written to the standard output.\n",
      "\n",
      "USAGE: clang-format [options] [<file> ...]\n",
      "\n",
      "OPTIONS:\n",
      "\n",
      "Clang-format options:\n",
      "\n",
      "  --Werror                       - If set, changes formatting warnings to errors\n",
      "  --Wno-error=<value>            - If set don't error out on the specified warning type.\n",
      "    =unknown                     -   If set, unknown format options are only warned about.\n",
      "                                     This can be used to enable formatting, even if the\n",
      "                                     configuration contains unknown (newer) options.\n",
      "                                     Use with caution, as this might lead to dramatically\n",
      "                                     differing format depending on an option being\n",
      "                                     supported or not.\n",
      "  --assume-filename=<string>     - Set filename used to determine the language and to find\n",
      "                                   .clang-format file.\n",
      "                                   Only used when reading from stdin.\n",
      "                                   If this is not passed, the .clang-format file is searched\n",
      "                                   relative to the current working directory when reading stdin.\n",
      "                                   Unrecognized filenames are treated as C++.\n",
      "                                   supported:\n",
      "                                     CSharp: .cs\n",
      "                                     Java: .java\n",
      "                                     JavaScript: .mjs .js .ts\n",
      "                                     Json: .json\n",
      "                                     Objective-C: .m .mm\n",
      "                                     Proto: .proto .protodevel\n",
      "                                     TableGen: .td\n",
      "                                     TextProto: .textpb .pb.txt .textproto .asciipb\n",
      "                                     Verilog: .sv .svh .v .vh\n",
      "  --cursor=<uint>                - The position of the cursor when invoking\n",
      "                                   clang-format from an editor integration\n",
      "  --dry-run                      - If set, do not actually make the formatting changes\n",
      "  --dump-config                  - Dump configuration options to stdout and exit.\n",
      "                                   Can be used with -style option.\n",
      "  --fallback-style=<string>      - The name of the predefined style used as a\n",
      "                                   fallback in case clang-format is invoked with\n",
      "                                   -style=file, but can not find the .clang-format\n",
      "                                   file to use. Defaults to 'LLVM'.\n",
      "                                   Use -fallback-style=none to skip formatting.\n",
      "  --ferror-limit=<uint>          - Set the maximum number of clang-format errors to emit\n",
      "                                   before stopping (0 = no limit).\n",
      "                                   Used only with --dry-run or -n\n",
      "  --files=<string>               - Provide a list of files to run clang-format\n",
      "  -i                             - Inplace edit <file>s, if specified.\n",
      "  --length=<uint>                - Format a range of this length (in bytes).\n",
      "                                   Multiple ranges can be formatted by specifying\n",
      "                                   several -offset and -length pairs.\n",
      "                                   When only a single -offset is specified without\n",
      "                                   -length, clang-format will format up to the end\n",
      "                                   of the file.\n",
      "                                   Can only be used with one input file.\n",
      "  --lines=<string>               - <start line>:<end line> - format a range of\n",
      "                                   lines (both 1-based).\n",
      "                                   Multiple ranges can be formatted by specifying\n",
      "                                   several -lines arguments.\n",
      "                                   Can't be used with -offset and -length.\n",
      "                                   Can only be used with one input file.\n",
      "  -n                             - Alias for --dry-run\n",
      "  --offset=<uint>                - Format a range starting at this byte offset.\n",
      "                                   Multiple ranges can be formatted by specifying\n",
      "                                   several -offset and -length pairs.\n",
      "                                   Can only be used with one input file.\n",
      "  --output-replacements-xml      - Output replacements as XML.\n",
      "  --qualifier-alignment=<string> - If set, overrides the qualifier alignment style\n",
      "                                   determined by the QualifierAlignment style flag\n",
      "  --sort-includes                - If set, overrides the include sorting behavior\n",
      "                                   determined by the SortIncludes style flag\n",
      "  --style=<string>               - Set coding style. <string> can be:\n",
      "                                   1. A preset: LLVM, GNU, Google, Chromium, Microsoft,\n",
      "                                      Mozilla, WebKit.\n",
      "                                   2. 'file' to load style configuration from a\n",
      "                                      .clang-format file in one of the parent directories\n",
      "                                      of the source file (for stdin, see --assume-filename).\n",
      "                                      If no .clang-format file is found, falls back to\n",
      "                                      --fallback-style.\n",
      "                                      --style=file is the default.\n",
      "                                   3. 'file:<format_file_path>' to explicitly specify\n",
      "                                      the configuration file.\n",
      "                                   4. \"{key: value, ...}\" to set specific parameters, e.g.:\n",
      "                                      --style=\"{BasedOnStyle: llvm, IndentWidth: 8}\"\n",
      "  --verbose                      - If set, shows the list of processed files\n",
      "\n",
      "Generic Options:\n",
      "\n",
      "  --help                         - Display available options (--help-hidden for more)\n",
      "  --help-list                    - Display list of available options (--help-list-hidden for more)\n",
      "  --version                      - Display the version of this program\n"
     ]
    }
   ],
   "source": [
    "%%sh\n",
    "clang-format --help"
   ]
  },
  {
   "cell_type": "code",
   "execution_count": 20,
   "id": "7c0a46d8-6c7a-46cc-92e5-d53d82f2580e",
   "metadata": {
    "slideshow": {
     "slide_type": "slide"
    },
    "tags": []
   },
   "outputs": [
    {
     "name": "stdout",
     "output_type": "stream",
     "text": [
      "BasedOnStyle: Google\n",
      "ColumnLimit: 120\n"
     ]
    }
   ],
   "source": [
    "cat /notebook/code/.clang-format"
   ]
  },
  {
   "cell_type": "code",
   "execution_count": 21,
   "id": "273e62a7-a8ae-4b6e-9886-04215622eeea",
   "metadata": {
    "slideshow": {
     "slide_type": "slide"
    },
    "tags": []
   },
   "outputs": [
    {
     "name": "stdout",
     "output_type": "stream",
     "text": [
      "#include <array>\n",
      "#include <iostream>\n",
      "#include <string>\n",
      "\n",
      "int main() {\n",
      "  std::array<std::string, 10> my_strings = {\n",
      "      \"A first string\",  \"a second string\",        \"a third string\",          \"and so on\",\n",
      "      \"and so forth\",    \"a testing string\",       \"a nother testing string\", \"my eighth string so far\",\n",
      "      \"nine, one to go\", \"at last the last string\"};\n",
      "\n",
      "  for (const auto &str : my_strings) {\n",
      "    std::cout << str << std::endl;\n",
      "  }\n",
      "\n",
      "  return 0;\n",
      "}\n"
     ]
    }
   ],
   "source": [
    "%%sh\n",
    "cd /notebook/code\n",
    "cat long-lines.cpp"
   ]
  },
  {
   "cell_type": "code",
   "execution_count": 22,
   "id": "fd369703-9570-4bdc-bfdd-fe4738c46874",
   "metadata": {
    "slideshow": {
     "slide_type": "slide"
    },
    "tags": []
   },
   "outputs": [
    {
     "name": "stdout",
     "output_type": "stream",
     "text": [
      "A first string\n",
      "a second string\n",
      "a third string\n",
      "and so on\n",
      "and so forth\n",
      "a testing string\n",
      "a nother testing string\n",
      "my eighth string so far\n",
      "nine, one to go\n",
      "at last the last string\n"
     ]
    }
   ],
   "source": [
    "%%sh\n",
    "cd /notebook/code\n",
    "g++ long-lines.cpp -Wall -std=c++17 -o ll_exec\n",
    "./ll_exec"
   ]
  },
  {
   "cell_type": "code",
   "execution_count": 25,
   "id": "20b57609-df24-4428-b197-a453ef5d070b",
   "metadata": {
    "slideshow": {
     "slide_type": "slide"
    },
    "tags": []
   },
   "outputs": [
    {
     "name": "stdout",
     "output_type": "stream",
     "text": [
      "#include <array>\n",
      "#include <iostream>\n",
      "#include <string>\n",
      "\n",
      "int main() {\n",
      "  std::array<std::string, 10> my_strings = {\n",
      "      \"A first string\",  \"a second string\",        \"a third string\",          \"and so on\",\n",
      "      \"and so forth\",    \"a testing string\",       \"a nother testing string\", \"my eighth string so far\",\n",
      "      \"nine, one to go\", \"at last the last string\"};\n",
      "\n",
      "  for (const auto &str : my_strings) {\n",
      "    std::cout << str << std::endl;\n",
      "  }\n",
      "\n",
      "  return 0;\n",
      "}\n"
     ]
    }
   ],
   "source": [
    "%%sh\n",
    "cd /notebook/code\n",
    "clang-format long-lines.cpp"
   ]
  },
  {
   "cell_type": "code",
   "execution_count": 18,
   "id": "dc779901-7b1b-410a-b015-834b617500d4",
   "metadata": {
    "slideshow": {
     "slide_type": "slide"
    },
    "tags": []
   },
   "outputs": [
    {
     "name": "stdout",
     "output_type": "stream",
     "text": [
      "diff --git a/code/long-lines.cpp b/code/long-lines.cpp\n",
      "index f62e008..eae997f 100644\n",
      "--- a/code/long-lines.cpp\n",
      "+++ b/code/long-lines.cpp\n",
      "@@ -1,14 +1,16 @@\n",
      " #include <array>\n",
      "-#include <string>\n",
      " #include <iostream>\n",
      "+#include <string>\n",
      " \n",
      " int main() {\n",
      "-  std::array< std::string, 10 > my_strings = {\"A first string\", \"a second string\", \"a third string\", \"and so on\", \"and so forth\", \"a testing string\", \"a nother testing string\", \"my eighth string so far\", \"nine, one to go\", \"at last the last string\"};\n",
      "+  std::array<std::string, 10> my_strings = {\n",
      "+      \"A first string\",  \"a second string\",        \"a third string\",          \"and so on\",\n",
      "+      \"and so forth\",    \"a testing string\",       \"a nother testing string\", \"my eighth string so far\",\n",
      "+      \"nine, one to go\", \"at last the last string\"};\n",
      " \n",
      "-  for ( const auto &str: my_strings ) {\n",
      "+  for (const auto &str : my_strings) {\n",
      "     std::cout << str << std::endl;\n",
      "   }\n",
      "-  \n",
      "-    \n",
      "+\n",
      "   return 0;\n",
      " }\n"
     ]
    }
   ],
   "source": [
    "%%sh\n",
    "cd /notebook/code\n",
    "clang-format -i long-lines.cpp\n",
    "git diff long-lines.cpp"
   ]
  },
  {
   "cell_type": "markdown",
   "id": "c1b00f53-6f35-4ad4-b4ed-74f269f64fc6",
   "metadata": {
    "slideshow": {
     "slide_type": "slide"
    },
    "tags": []
   },
   "source": [
    "# clang-tidy can find performance bugs and modernize your code\n",
    "\n",
    "  * ```clang-tidy``` is another LLVM tool that can find and replace out dated code constructs, or code that can be written in a more efficient manner\n",
    "  * It works much the same way as clang-format, but requires full compilation commands (eg, a *compilation command database*) to run.\n",
    "  * Extendable so you can write your own checks (perhaps your experiment has some of these running it its CI?)\n",
    "  \n",
    "I won't go through an example, but lets look at some of the ```clang-tidy``` documentation to understand what kind of code improvements it can make\n",
    "\n",
    "https://clang.llvm.org/extra/clang-tidy/\n"
   ]
  },
  {
   "cell_type": "code",
   "execution_count": null,
   "id": "59013b98-f481-424f-b828-ef231aaed95d",
   "metadata": {},
   "outputs": [],
   "source": []
  }
 ],
 "metadata": {
  "kernelspec": {
   "display_name": "Python 3 (ipykernel)",
   "language": "python",
   "name": "python3"
  },
  "language_info": {
   "codemirror_mode": {
    "name": "ipython",
    "version": 3
   },
   "file_extension": ".py",
   "mimetype": "text/x-python",
   "name": "python",
   "nbconvert_exporter": "python",
   "pygments_lexer": "ipython3",
   "version": "3.10.10"
  }
 },
 "nbformat": 4,
 "nbformat_minor": 5
}
